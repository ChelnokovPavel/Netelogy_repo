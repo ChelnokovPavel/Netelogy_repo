{
 "cells": [
  {
   "cell_type": "markdown",
   "metadata": {},
   "source": [
    "1 Возьмите датасет Mortality and Water Hardness\\\n",
    "https://www.kaggle.com/ukveteran/mortality-and-water-hardness\n",
    "\n",
    "Дополнительно будет выложен в ЛК\\\n",
    "В этом датасете содержатся данные по средней годовой смертности на\\\n",
    "100000 населения и концентрации кальция в питьевой воде для 61\\\n",
    "большого города в Англии и Уэльсе. Города дополнительно поделены на\\\n",
    "северные и южные.\n",
    "\n",
    "2 Задача - ответить на вопрос есть ли связь между жёсткостью воды и средней годовой смертностью?\n",
    "\n",
    "Построить точечный график\\\n",
    "Рассчитать коэффициенты корреляции Пирсона и Спирмена\\\n",
    "Построить модель линейной регрессии\\\n",
    "Рассчитать коэффициент детерминации\\\n",
    "Вывести график остатков\n",
    "\n",
    "3 Задание.\\\n",
    "Сохраняется ли аналогичная зависимость для северных и южных городов по отдельности?\n",
    "\n",
    "Разделить данные на 2 группы\\\n",
    "Повторить аналогичные шаги из пункта 1 для каждой группы по отдельности"
   ]
  },
  {
   "cell_type": "code",
   "execution_count": 8,
   "metadata": {},
   "outputs": [],
   "source": [
    "import pandas as pd\n",
    "import matplotlib.pyplot as plt\n",
    "import seaborn as sns\n",
    "from sklearn.linear_model import LinearRegression\n",
    "from sklearn.model_selection import train_test_split"
   ]
  },
  {
   "cell_type": "code",
   "execution_count": 52,
   "metadata": {
    "scrolled": false
   },
   "outputs": [
    {
     "name": "stdout",
     "output_type": "stream",
     "text": [
      "    Unnamed: 0 location           town  mortality  hardness\n",
      "0            1    South           Bath       1247       105\n",
      "1            2    North     Birkenhead       1668        17\n",
      "2            3    South     Birmingham       1466         5\n",
      "3            4    North      Blackburn       1800        14\n",
      "4            5    North      Blackpool       1609        18\n",
      "..         ...      ...            ...        ...       ...\n",
      "56          57    South        Walsall       1527        60\n",
      "57          58    South  West Bromwich       1627        53\n",
      "58          59    South       West Ham       1486       122\n",
      "59          60    South  Wolverhampton       1485        81\n",
      "60          61    North           York       1378        71\n",
      "\n",
      "[61 rows x 5 columns]\n"
     ]
    },
    {
     "data": {
      "text/plain": [
       "<matplotlib.axes._subplots.AxesSubplot at 0x1f2f03127f0>"
      ]
     },
     "execution_count": 52,
     "metadata": {},
     "output_type": "execute_result"
    },
    {
     "data": {
      "image/png": "[encoded data removed]",
      "text/plain": [
       "<Figure size 432x288 with 1 Axes>"
      ]
     },
     "metadata": {
      "needs_background": "light"
     },
     "output_type": "display_data"
    }
   ],
   "source": [
    "df = pd.read_csv('water.csv')\n",
    "print(df)\n",
    "df.plot(kind='scatter', x='mortality', y='hardness')"
   ]
  },
  {
   "cell_type": "code",
   "execution_count": 7,
   "metadata": {},
   "outputs": [
    {
     "data": {
      "text/html": [
       "<div>\n",
       "<style scoped>\n",
       "    .dataframe tbody tr th:only-of-type {\n",
       "        vertical-align: middle;\n",
       "    }\n",
       "\n",
       "    .dataframe tbody tr th {\n",
       "        vertical-align: top;\n",
       "    }\n",
       "\n",
       "    .dataframe thead th {\n",
       "        text-align: right;\n",
       "    }\n",
       "</style>\n",
       "<table border=\"1\" class=\"dataframe\">\n",
       "  <thead>\n",
       "    <tr style=\"text-align: right;\">\n",
       "      <th></th>\n",
       "      <th>Unnamed: 0</th>\n",
       "      <th>mortality</th>\n",
       "      <th>hardness</th>\n",
       "    </tr>\n",
       "  </thead>\n",
       "  <tbody>\n",
       "    <tr>\n",
       "      <th>count</th>\n",
       "      <td>61.000000</td>\n",
       "      <td>61.000000</td>\n",
       "      <td>61.000000</td>\n",
       "    </tr>\n",
       "    <tr>\n",
       "      <th>mean</th>\n",
       "      <td>31.000000</td>\n",
       "      <td>1524.147541</td>\n",
       "      <td>47.180328</td>\n",
       "    </tr>\n",
       "    <tr>\n",
       "      <th>std</th>\n",
       "      <td>17.752934</td>\n",
       "      <td>187.668754</td>\n",
       "      <td>38.093966</td>\n",
       "    </tr>\n",
       "    <tr>\n",
       "      <th>min</th>\n",
       "      <td>1.000000</td>\n",
       "      <td>1096.000000</td>\n",
       "      <td>5.000000</td>\n",
       "    </tr>\n",
       "    <tr>\n",
       "      <th>25%</th>\n",
       "      <td>16.000000</td>\n",
       "      <td>1379.000000</td>\n",
       "      <td>14.000000</td>\n",
       "    </tr>\n",
       "    <tr>\n",
       "      <th>50%</th>\n",
       "      <td>31.000000</td>\n",
       "      <td>1555.000000</td>\n",
       "      <td>39.000000</td>\n",
       "    </tr>\n",
       "    <tr>\n",
       "      <th>75%</th>\n",
       "      <td>46.000000</td>\n",
       "      <td>1668.000000</td>\n",
       "      <td>75.000000</td>\n",
       "    </tr>\n",
       "    <tr>\n",
       "      <th>max</th>\n",
       "      <td>61.000000</td>\n",
       "      <td>1987.000000</td>\n",
       "      <td>138.000000</td>\n",
       "    </tr>\n",
       "  </tbody>\n",
       "</table>\n",
       "</div>"
      ],
      "text/plain": [
       "       Unnamed: 0    mortality    hardness\n",
       "count   61.000000    61.000000   61.000000\n",
       "mean    31.000000  1524.147541   47.180328\n",
       "std     17.752934   187.668754   38.093966\n",
       "min      1.000000  1096.000000    5.000000\n",
       "25%     16.000000  1379.000000   14.000000\n",
       "50%     31.000000  1555.000000   39.000000\n",
       "75%     46.000000  1668.000000   75.000000\n",
       "max     61.000000  1987.000000  138.000000"
      ]
     },
     "execution_count": 7,
     "metadata": {},
     "output_type": "execute_result"
    }
   ],
   "source": [
    "df.describe()"
   ]
  },
  {
   "cell_type": "code",
   "execution_count": 6,
   "metadata": {
    "scrolled": true
   },
   "outputs": [
    {
     "name": "stdout",
     "output_type": "stream",
     "text": [
      "           hardness  mortality\n",
      "hardness   1.000000  -0.654849\n",
      "mortality -0.654849   1.000000\n",
      "           hardness  mortality\n",
      "hardness   1.000000  -0.631665\n",
      "mortality -0.631665   1.000000\n"
     ]
    }
   ],
   "source": [
    "print(df[['hardness', 'mortality']].corr())\n",
    "print(df[['hardness', 'mortality']].corr(method='spearman'))"
   ]
  },
  {
   "cell_type": "code",
   "execution_count": 29,
   "metadata": {
    "id": "_M4mqTiPxcWE"
   },
   "outputs": [],
   "source": [
    "X = df[['hardness']]\n",
    "y = df['mortality']"
   ]
  },
  {
   "cell_type": "code",
   "execution_count": 30,
   "metadata": {},
   "outputs": [],
   "source": [
    "X_train, X_test, y_train, y_test = train_test_split(X, y, test_size=0.30, random_state=322)"
   ]
  },
  {
   "cell_type": "code",
   "execution_count": 33,
   "metadata": {
    "colab": {
     "base_uri": "https://localhost:8080/",
     "height": 35
    },
    "id": "hF2RTr4aRmf7",
    "outputId": "c7a241b9-b911-4e82-8174-131fa25f88d5"
   },
   "outputs": [
    {
     "data": {
      "text/plain": [
       "(42, 1)"
      ]
     },
     "execution_count": 33,
     "metadata": {},
     "output_type": "execute_result"
    }
   ],
   "source": [
    "X_train.shape"
   ]
  },
  {
   "cell_type": "code",
   "execution_count": 34,
   "metadata": {
    "colab": {
     "base_uri": "https://localhost:8080/",
     "height": 35
    },
    "id": "uHtibYVJRrjZ",
    "outputId": "07949672-955a-4175-b0f2-4e1c7cb97146"
   },
   "outputs": [
    {
     "data": {
      "text/plain": [
       "(42,)"
      ]
     },
     "execution_count": 34,
     "metadata": {},
     "output_type": "execute_result"
    }
   ],
   "source": [
    "y_train.shape"
   ]
  },
  {
   "cell_type": "code",
   "execution_count": 35,
   "metadata": {
    "colab": {
     "base_uri": "https://localhost:8080/",
     "height": 35
    },
    "id": "qAioVnT2xMR3",
    "outputId": "5160edea-4f5f-4e79-feb8-b6feaf87c273"
   },
   "outputs": [
    {
     "data": {
      "text/plain": [
       "LinearRegression()"
      ]
     },
     "execution_count": 35,
     "metadata": {},
     "output_type": "execute_result"
    }
   ],
   "source": [
    "model = LinearRegression()\n",
    "model.fit(X_train, y_train)  # метод обучается на данных и подбирает оптимальные коэффициенты"
   ]
  },
  {
   "cell_type": "code",
   "execution_count": 36,
   "metadata": {
    "colab": {
     "base_uri": "https://localhost:8080/",
     "height": 35
    },
    "id": "BbgJpYgzRy66",
    "outputId": "2a717a21-10e2-4514-e658-b918c882232b"
   },
   "outputs": [
    {
     "data": {
      "text/plain": [
       "array([-3.2680675])"
      ]
     },
     "execution_count": 36,
     "metadata": {},
     "output_type": "execute_result"
    }
   ],
   "source": [
    "model.coef_"
   ]
  },
  {
   "cell_type": "code",
   "execution_count": 37,
   "metadata": {
    "colab": {
     "base_uri": "https://localhost:8080/",
     "height": 35
    },
    "id": "dnb8_ADdR3By",
    "outputId": "0a300dcd-bf0d-4f19-d6ac-2cc4d58a36d4"
   },
   "outputs": [
    {
     "data": {
      "text/plain": [
       "1669.4851657828244"
      ]
     },
     "execution_count": 37,
     "metadata": {},
     "output_type": "execute_result"
    }
   ],
   "source": [
    "model.intercept_"
   ]
  },
  {
   "cell_type": "code",
   "execution_count": 38,
   "metadata": {},
   "outputs": [
    {
     "data": {
      "text/plain": [
       "array([1424.38010316, 1319.80194311, 1372.09102314, 1525.69019571,\n",
       "       1525.69019571, 1623.73222076, 1627.00028826, 1437.45237317,\n",
       "       1649.87676077, 1234.83218807, 1617.19608576, 1600.85574825,\n",
       "       1542.03053322, 1447.25657567, 1339.41034812, 1414.57590066,\n",
       "       1437.45237317, 1404.77169815, 1627.00028826])"
      ]
     },
     "execution_count": 38,
     "metadata": {},
     "output_type": "execute_result"
    }
   ],
   "source": [
    "y_pred = model.predict(X_test)\n",
    "y_pred"
   ]
  },
  {
   "cell_type": "code",
   "execution_count": 39,
   "metadata": {},
   "outputs": [
    {
     "data": {
      "text/plain": [
       "0.4629411456163164"
      ]
     },
     "execution_count": 39,
     "metadata": {},
     "output_type": "execute_result"
    }
   ],
   "source": [
    "model.score(X_test, y_test) # метод возвращает значение коэффициента детерминации"
   ]
  },
  {
   "cell_type": "code",
   "execution_count": 40,
   "metadata": {},
   "outputs": [
    {
     "data": {
      "text/plain": [
       "[<matplotlib.lines.Line2D at 0x1f2ef4c10d0>]"
      ]
     },
     "execution_count": 40,
     "metadata": {},
     "output_type": "execute_result"
    },
    {
     "data": {
      "image/png": "[encoded data removed]",
      "text/plain": [
       "<Figure size 432x288 with 1 Axes>"
      ]
     },
     "metadata": {
      "needs_background": "light"
     },
     "output_type": "display_data"
    }
   ],
   "source": [
    "plt.scatter(X_test, y_test)\n",
    "plt.plot(X_test, y_pred, c='r')"
   ]
  },
  {
   "cell_type": "code",
   "execution_count": 70,
   "metadata": {
    "scrolled": true
   },
   "outputs": [
    {
     "data": {
      "text/plain": [
       "<matplotlib.collections.PathCollection at 0x1f2f17b8430>"
      ]
     },
     "execution_count": 70,
     "metadata": {},
     "output_type": "execute_result"
    },
    {
     "data": {
      "image/png": "[encoded data removed]",
      "text/plain": [
       "<Figure size 432x288 with 1 Axes>"
      ]
     },
     "metadata": {
      "needs_background": "light"
     },
     "output_type": "display_data"
    }
   ],
   "source": [
    "# остатки\n",
    "residuals = y_test-y_pred\n",
    "fig, ax = plt.subplots()\n",
    "ax.vlines(0, y.min(), y.max(), color='r')\n",
    "plt.scatter(residuals,y_pred)"
   ]
  },
  {
   "cell_type": "code",
   "execution_count": null,
   "metadata": {},
   "outputs": [],
   "source": [
    "# Распределение +- равномерно, красивый вариант графика, для всего этого дела, я не нашел.\n",
    "# Нашел пакет yellowbrick, но что-то о ну меня не установился"
   ]
  },
  {
   "cell_type": "code",
   "execution_count": 55,
   "metadata": {},
   "outputs": [
    {
     "data": {
      "text/html": [
       "<div>\n",
       "<style scoped>\n",
       "    .dataframe tbody tr th:only-of-type {\n",
       "        vertical-align: middle;\n",
       "    }\n",
       "\n",
       "    .dataframe tbody tr th {\n",
       "        vertical-align: top;\n",
       "    }\n",
       "\n",
       "    .dataframe thead th {\n",
       "        text-align: right;\n",
       "    }\n",
       "</style>\n",
       "<table border=\"1\" class=\"dataframe\">\n",
       "  <thead>\n",
       "    <tr style=\"text-align: right;\">\n",
       "      <th></th>\n",
       "      <th>Unnamed: 0</th>\n",
       "      <th>location</th>\n",
       "      <th>town</th>\n",
       "      <th>mortality</th>\n",
       "      <th>hardness</th>\n",
       "    </tr>\n",
       "  </thead>\n",
       "  <tbody>\n",
       "    <tr>\n",
       "      <th>0</th>\n",
       "      <td>1</td>\n",
       "      <td>South</td>\n",
       "      <td>Bath</td>\n",
       "      <td>1247</td>\n",
       "      <td>105</td>\n",
       "    </tr>\n",
       "    <tr>\n",
       "      <th>2</th>\n",
       "      <td>3</td>\n",
       "      <td>South</td>\n",
       "      <td>Birmingham</td>\n",
       "      <td>1466</td>\n",
       "      <td>5</td>\n",
       "    </tr>\n",
       "    <tr>\n",
       "      <th>7</th>\n",
       "      <td>8</td>\n",
       "      <td>South</td>\n",
       "      <td>Bournemouth</td>\n",
       "      <td>1299</td>\n",
       "      <td>78</td>\n",
       "    </tr>\n",
       "    <tr>\n",
       "      <th>9</th>\n",
       "      <td>10</td>\n",
       "      <td>South</td>\n",
       "      <td>Brighton</td>\n",
       "      <td>1359</td>\n",
       "      <td>84</td>\n",
       "    </tr>\n",
       "    <tr>\n",
       "      <th>10</th>\n",
       "      <td>11</td>\n",
       "      <td>South</td>\n",
       "      <td>Bristol</td>\n",
       "      <td>1392</td>\n",
       "      <td>73</td>\n",
       "    </tr>\n",
       "    <tr>\n",
       "      <th>12</th>\n",
       "      <td>13</td>\n",
       "      <td>South</td>\n",
       "      <td>Cardiff</td>\n",
       "      <td>1519</td>\n",
       "      <td>21</td>\n",
       "    </tr>\n",
       "    <tr>\n",
       "      <th>13</th>\n",
       "      <td>14</td>\n",
       "      <td>South</td>\n",
       "      <td>Coventry</td>\n",
       "      <td>1307</td>\n",
       "      <td>78</td>\n",
       "    </tr>\n",
       "    <tr>\n",
       "      <th>14</th>\n",
       "      <td>15</td>\n",
       "      <td>South</td>\n",
       "      <td>Croydon</td>\n",
       "      <td>1254</td>\n",
       "      <td>96</td>\n",
       "    </tr>\n",
       "    <tr>\n",
       "      <th>18</th>\n",
       "      <td>19</td>\n",
       "      <td>South</td>\n",
       "      <td>East Ham</td>\n",
       "      <td>1318</td>\n",
       "      <td>122</td>\n",
       "    </tr>\n",
       "    <tr>\n",
       "      <th>19</th>\n",
       "      <td>20</td>\n",
       "      <td>South</td>\n",
       "      <td>Exeter</td>\n",
       "      <td>1260</td>\n",
       "      <td>21</td>\n",
       "    </tr>\n",
       "    <tr>\n",
       "      <th>25</th>\n",
       "      <td>26</td>\n",
       "      <td>South</td>\n",
       "      <td>Ipswich</td>\n",
       "      <td>1096</td>\n",
       "      <td>138</td>\n",
       "    </tr>\n",
       "    <tr>\n",
       "      <th>27</th>\n",
       "      <td>28</td>\n",
       "      <td>South</td>\n",
       "      <td>Leicester</td>\n",
       "      <td>1402</td>\n",
       "      <td>37</td>\n",
       "    </tr>\n",
       "    <tr>\n",
       "      <th>32</th>\n",
       "      <td>33</td>\n",
       "      <td>South</td>\n",
       "      <td>Newport</td>\n",
       "      <td>1581</td>\n",
       "      <td>14</td>\n",
       "    </tr>\n",
       "    <tr>\n",
       "      <th>33</th>\n",
       "      <td>34</td>\n",
       "      <td>South</td>\n",
       "      <td>Northampton</td>\n",
       "      <td>1309</td>\n",
       "      <td>59</td>\n",
       "    </tr>\n",
       "    <tr>\n",
       "      <th>34</th>\n",
       "      <td>35</td>\n",
       "      <td>South</td>\n",
       "      <td>Norwich</td>\n",
       "      <td>1259</td>\n",
       "      <td>133</td>\n",
       "    </tr>\n",
       "    <tr>\n",
       "      <th>37</th>\n",
       "      <td>38</td>\n",
       "      <td>South</td>\n",
       "      <td>Oxford</td>\n",
       "      <td>1175</td>\n",
       "      <td>107</td>\n",
       "    </tr>\n",
       "    <tr>\n",
       "      <th>38</th>\n",
       "      <td>39</td>\n",
       "      <td>South</td>\n",
       "      <td>Plymouth</td>\n",
       "      <td>1486</td>\n",
       "      <td>5</td>\n",
       "    </tr>\n",
       "    <tr>\n",
       "      <th>39</th>\n",
       "      <td>40</td>\n",
       "      <td>South</td>\n",
       "      <td>Portsmouth</td>\n",
       "      <td>1456</td>\n",
       "      <td>90</td>\n",
       "    </tr>\n",
       "    <tr>\n",
       "      <th>41</th>\n",
       "      <td>42</td>\n",
       "      <td>South</td>\n",
       "      <td>Reading</td>\n",
       "      <td>1236</td>\n",
       "      <td>101</td>\n",
       "    </tr>\n",
       "    <tr>\n",
       "      <th>47</th>\n",
       "      <td>48</td>\n",
       "      <td>South</td>\n",
       "      <td>Southampton</td>\n",
       "      <td>1369</td>\n",
       "      <td>68</td>\n",
       "    </tr>\n",
       "    <tr>\n",
       "      <th>48</th>\n",
       "      <td>49</td>\n",
       "      <td>South</td>\n",
       "      <td>Southend</td>\n",
       "      <td>1257</td>\n",
       "      <td>50</td>\n",
       "    </tr>\n",
       "    <tr>\n",
       "      <th>54</th>\n",
       "      <td>55</td>\n",
       "      <td>South</td>\n",
       "      <td>Swansea</td>\n",
       "      <td>1625</td>\n",
       "      <td>13</td>\n",
       "    </tr>\n",
       "    <tr>\n",
       "      <th>56</th>\n",
       "      <td>57</td>\n",
       "      <td>South</td>\n",
       "      <td>Walsall</td>\n",
       "      <td>1527</td>\n",
       "      <td>60</td>\n",
       "    </tr>\n",
       "    <tr>\n",
       "      <th>57</th>\n",
       "      <td>58</td>\n",
       "      <td>South</td>\n",
       "      <td>West Bromwich</td>\n",
       "      <td>1627</td>\n",
       "      <td>53</td>\n",
       "    </tr>\n",
       "    <tr>\n",
       "      <th>58</th>\n",
       "      <td>59</td>\n",
       "      <td>South</td>\n",
       "      <td>West Ham</td>\n",
       "      <td>1486</td>\n",
       "      <td>122</td>\n",
       "    </tr>\n",
       "    <tr>\n",
       "      <th>59</th>\n",
       "      <td>60</td>\n",
       "      <td>South</td>\n",
       "      <td>Wolverhampton</td>\n",
       "      <td>1485</td>\n",
       "      <td>81</td>\n",
       "    </tr>\n",
       "  </tbody>\n",
       "</table>\n",
       "</div>"
      ],
      "text/plain": [
       "    Unnamed: 0 location           town  mortality  hardness\n",
       "0            1    South           Bath       1247       105\n",
       "2            3    South     Birmingham       1466         5\n",
       "7            8    South    Bournemouth       1299        78\n",
       "9           10    South       Brighton       1359        84\n",
       "10          11    South        Bristol       1392        73\n",
       "12          13    South        Cardiff       1519        21\n",
       "13          14    South       Coventry       1307        78\n",
       "14          15    South        Croydon       1254        96\n",
       "18          19    South       East Ham       1318       122\n",
       "19          20    South         Exeter       1260        21\n",
       "25          26    South        Ipswich       1096       138\n",
       "27          28    South      Leicester       1402        37\n",
       "32          33    South        Newport       1581        14\n",
       "33          34    South    Northampton       1309        59\n",
       "34          35    South        Norwich       1259       133\n",
       "37          38    South         Oxford       1175       107\n",
       "38          39    South       Plymouth       1486         5\n",
       "39          40    South     Portsmouth       1456        90\n",
       "41          42    South        Reading       1236       101\n",
       "47          48    South    Southampton       1369        68\n",
       "48          49    South       Southend       1257        50\n",
       "54          55    South        Swansea       1625        13\n",
       "56          57    South        Walsall       1527        60\n",
       "57          58    South  West Bromwich       1627        53\n",
       "58          59    South       West Ham       1486       122\n",
       "59          60    South  Wolverhampton       1485        81"
      ]
     },
     "execution_count": 55,
     "metadata": {},
     "output_type": "execute_result"
    }
   ],
   "source": [
    "df_south = df.loc[df['location'] == 'South'].copy()\n",
    "df_south"
   ]
  },
  {
   "cell_type": "code",
   "execution_count": 56,
   "metadata": {},
   "outputs": [
    {
     "data": {
      "text/html": [
       "<div>\n",
       "<style scoped>\n",
       "    .dataframe tbody tr th:only-of-type {\n",
       "        vertical-align: middle;\n",
       "    }\n",
       "\n",
       "    .dataframe tbody tr th {\n",
       "        vertical-align: top;\n",
       "    }\n",
       "\n",
       "    .dataframe thead th {\n",
       "        text-align: right;\n",
       "    }\n",
       "</style>\n",
       "<table border=\"1\" class=\"dataframe\">\n",
       "  <thead>\n",
       "    <tr style=\"text-align: right;\">\n",
       "      <th></th>\n",
       "      <th>Unnamed: 0</th>\n",
       "      <th>location</th>\n",
       "      <th>town</th>\n",
       "      <th>mortality</th>\n",
       "      <th>hardness</th>\n",
       "    </tr>\n",
       "  </thead>\n",
       "  <tbody>\n",
       "    <tr>\n",
       "      <th>1</th>\n",
       "      <td>2</td>\n",
       "      <td>North</td>\n",
       "      <td>Birkenhead</td>\n",
       "      <td>1668</td>\n",
       "      <td>17</td>\n",
       "    </tr>\n",
       "    <tr>\n",
       "      <th>3</th>\n",
       "      <td>4</td>\n",
       "      <td>North</td>\n",
       "      <td>Blackburn</td>\n",
       "      <td>1800</td>\n",
       "      <td>14</td>\n",
       "    </tr>\n",
       "    <tr>\n",
       "      <th>4</th>\n",
       "      <td>5</td>\n",
       "      <td>North</td>\n",
       "      <td>Blackpool</td>\n",
       "      <td>1609</td>\n",
       "      <td>18</td>\n",
       "    </tr>\n",
       "    <tr>\n",
       "      <th>5</th>\n",
       "      <td>6</td>\n",
       "      <td>North</td>\n",
       "      <td>Bolton</td>\n",
       "      <td>1558</td>\n",
       "      <td>10</td>\n",
       "    </tr>\n",
       "    <tr>\n",
       "      <th>6</th>\n",
       "      <td>7</td>\n",
       "      <td>North</td>\n",
       "      <td>Bootle</td>\n",
       "      <td>1807</td>\n",
       "      <td>15</td>\n",
       "    </tr>\n",
       "    <tr>\n",
       "      <th>8</th>\n",
       "      <td>9</td>\n",
       "      <td>North</td>\n",
       "      <td>Bradford</td>\n",
       "      <td>1637</td>\n",
       "      <td>10</td>\n",
       "    </tr>\n",
       "    <tr>\n",
       "      <th>11</th>\n",
       "      <td>12</td>\n",
       "      <td>North</td>\n",
       "      <td>Burnley</td>\n",
       "      <td>1755</td>\n",
       "      <td>12</td>\n",
       "    </tr>\n",
       "    <tr>\n",
       "      <th>15</th>\n",
       "      <td>16</td>\n",
       "      <td>North</td>\n",
       "      <td>Darlington</td>\n",
       "      <td>1491</td>\n",
       "      <td>20</td>\n",
       "    </tr>\n",
       "    <tr>\n",
       "      <th>16</th>\n",
       "      <td>17</td>\n",
       "      <td>North</td>\n",
       "      <td>Derby</td>\n",
       "      <td>1555</td>\n",
       "      <td>39</td>\n",
       "    </tr>\n",
       "    <tr>\n",
       "      <th>17</th>\n",
       "      <td>18</td>\n",
       "      <td>North</td>\n",
       "      <td>Doncaster</td>\n",
       "      <td>1428</td>\n",
       "      <td>39</td>\n",
       "    </tr>\n",
       "    <tr>\n",
       "      <th>20</th>\n",
       "      <td>21</td>\n",
       "      <td>North</td>\n",
       "      <td>Gateshead</td>\n",
       "      <td>1723</td>\n",
       "      <td>44</td>\n",
       "    </tr>\n",
       "    <tr>\n",
       "      <th>21</th>\n",
       "      <td>22</td>\n",
       "      <td>North</td>\n",
       "      <td>Grimsby</td>\n",
       "      <td>1379</td>\n",
       "      <td>94</td>\n",
       "    </tr>\n",
       "    <tr>\n",
       "      <th>22</th>\n",
       "      <td>23</td>\n",
       "      <td>North</td>\n",
       "      <td>Halifax</td>\n",
       "      <td>1742</td>\n",
       "      <td>8</td>\n",
       "    </tr>\n",
       "    <tr>\n",
       "      <th>23</th>\n",
       "      <td>24</td>\n",
       "      <td>North</td>\n",
       "      <td>Huddersfield</td>\n",
       "      <td>1574</td>\n",
       "      <td>9</td>\n",
       "    </tr>\n",
       "    <tr>\n",
       "      <th>24</th>\n",
       "      <td>25</td>\n",
       "      <td>North</td>\n",
       "      <td>Hull</td>\n",
       "      <td>1569</td>\n",
       "      <td>91</td>\n",
       "    </tr>\n",
       "    <tr>\n",
       "      <th>26</th>\n",
       "      <td>27</td>\n",
       "      <td>North</td>\n",
       "      <td>Leeds</td>\n",
       "      <td>1591</td>\n",
       "      <td>16</td>\n",
       "    </tr>\n",
       "    <tr>\n",
       "      <th>28</th>\n",
       "      <td>29</td>\n",
       "      <td>North</td>\n",
       "      <td>Liverpool</td>\n",
       "      <td>1772</td>\n",
       "      <td>15</td>\n",
       "    </tr>\n",
       "    <tr>\n",
       "      <th>29</th>\n",
       "      <td>30</td>\n",
       "      <td>North</td>\n",
       "      <td>Manchester</td>\n",
       "      <td>1828</td>\n",
       "      <td>8</td>\n",
       "    </tr>\n",
       "    <tr>\n",
       "      <th>30</th>\n",
       "      <td>31</td>\n",
       "      <td>North</td>\n",
       "      <td>Middlesbrough</td>\n",
       "      <td>1704</td>\n",
       "      <td>26</td>\n",
       "    </tr>\n",
       "    <tr>\n",
       "      <th>31</th>\n",
       "      <td>32</td>\n",
       "      <td>North</td>\n",
       "      <td>Newcastle</td>\n",
       "      <td>1702</td>\n",
       "      <td>44</td>\n",
       "    </tr>\n",
       "    <tr>\n",
       "      <th>35</th>\n",
       "      <td>36</td>\n",
       "      <td>North</td>\n",
       "      <td>Nottingham</td>\n",
       "      <td>1427</td>\n",
       "      <td>27</td>\n",
       "    </tr>\n",
       "    <tr>\n",
       "      <th>36</th>\n",
       "      <td>37</td>\n",
       "      <td>North</td>\n",
       "      <td>Oldham</td>\n",
       "      <td>1724</td>\n",
       "      <td>6</td>\n",
       "    </tr>\n",
       "    <tr>\n",
       "      <th>40</th>\n",
       "      <td>41</td>\n",
       "      <td>North</td>\n",
       "      <td>Preston</td>\n",
       "      <td>1696</td>\n",
       "      <td>6</td>\n",
       "    </tr>\n",
       "    <tr>\n",
       "      <th>42</th>\n",
       "      <td>43</td>\n",
       "      <td>North</td>\n",
       "      <td>Rochdale</td>\n",
       "      <td>1711</td>\n",
       "      <td>13</td>\n",
       "    </tr>\n",
       "    <tr>\n",
       "      <th>43</th>\n",
       "      <td>44</td>\n",
       "      <td>North</td>\n",
       "      <td>Rotherham</td>\n",
       "      <td>1444</td>\n",
       "      <td>14</td>\n",
       "    </tr>\n",
       "    <tr>\n",
       "      <th>44</th>\n",
       "      <td>45</td>\n",
       "      <td>North</td>\n",
       "      <td>St Helens</td>\n",
       "      <td>1591</td>\n",
       "      <td>49</td>\n",
       "    </tr>\n",
       "    <tr>\n",
       "      <th>45</th>\n",
       "      <td>46</td>\n",
       "      <td>North</td>\n",
       "      <td>Salford</td>\n",
       "      <td>1987</td>\n",
       "      <td>8</td>\n",
       "    </tr>\n",
       "    <tr>\n",
       "      <th>46</th>\n",
       "      <td>47</td>\n",
       "      <td>North</td>\n",
       "      <td>Sheffield</td>\n",
       "      <td>1495</td>\n",
       "      <td>14</td>\n",
       "    </tr>\n",
       "    <tr>\n",
       "      <th>49</th>\n",
       "      <td>50</td>\n",
       "      <td>North</td>\n",
       "      <td>Southport</td>\n",
       "      <td>1587</td>\n",
       "      <td>75</td>\n",
       "    </tr>\n",
       "    <tr>\n",
       "      <th>50</th>\n",
       "      <td>51</td>\n",
       "      <td>North</td>\n",
       "      <td>South Shields</td>\n",
       "      <td>1713</td>\n",
       "      <td>71</td>\n",
       "    </tr>\n",
       "    <tr>\n",
       "      <th>51</th>\n",
       "      <td>52</td>\n",
       "      <td>North</td>\n",
       "      <td>Stockport</td>\n",
       "      <td>1557</td>\n",
       "      <td>13</td>\n",
       "    </tr>\n",
       "    <tr>\n",
       "      <th>52</th>\n",
       "      <td>53</td>\n",
       "      <td>North</td>\n",
       "      <td>Stoke</td>\n",
       "      <td>1640</td>\n",
       "      <td>57</td>\n",
       "    </tr>\n",
       "    <tr>\n",
       "      <th>53</th>\n",
       "      <td>54</td>\n",
       "      <td>North</td>\n",
       "      <td>Sunderland</td>\n",
       "      <td>1709</td>\n",
       "      <td>71</td>\n",
       "    </tr>\n",
       "    <tr>\n",
       "      <th>55</th>\n",
       "      <td>56</td>\n",
       "      <td>North</td>\n",
       "      <td>Wallasey</td>\n",
       "      <td>1625</td>\n",
       "      <td>20</td>\n",
       "    </tr>\n",
       "    <tr>\n",
       "      <th>60</th>\n",
       "      <td>61</td>\n",
       "      <td>North</td>\n",
       "      <td>York</td>\n",
       "      <td>1378</td>\n",
       "      <td>71</td>\n",
       "    </tr>\n",
       "  </tbody>\n",
       "</table>\n",
       "</div>"
      ],
      "text/plain": [
       "    Unnamed: 0 location           town  mortality  hardness\n",
       "1            2    North     Birkenhead       1668        17\n",
       "3            4    North      Blackburn       1800        14\n",
       "4            5    North      Blackpool       1609        18\n",
       "5            6    North         Bolton       1558        10\n",
       "6            7    North         Bootle       1807        15\n",
       "8            9    North       Bradford       1637        10\n",
       "11          12    North        Burnley       1755        12\n",
       "15          16    North     Darlington       1491        20\n",
       "16          17    North          Derby       1555        39\n",
       "17          18    North      Doncaster       1428        39\n",
       "20          21    North      Gateshead       1723        44\n",
       "21          22    North        Grimsby       1379        94\n",
       "22          23    North        Halifax       1742         8\n",
       "23          24    North   Huddersfield       1574         9\n",
       "24          25    North           Hull       1569        91\n",
       "26          27    North          Leeds       1591        16\n",
       "28          29    North      Liverpool       1772        15\n",
       "29          30    North     Manchester       1828         8\n",
       "30          31    North  Middlesbrough       1704        26\n",
       "31          32    North      Newcastle       1702        44\n",
       "35          36    North     Nottingham       1427        27\n",
       "36          37    North         Oldham       1724         6\n",
       "40          41    North        Preston       1696         6\n",
       "42          43    North       Rochdale       1711        13\n",
       "43          44    North      Rotherham       1444        14\n",
       "44          45    North      St Helens       1591        49\n",
       "45          46    North        Salford       1987         8\n",
       "46          47    North      Sheffield       1495        14\n",
       "49          50    North      Southport       1587        75\n",
       "50          51    North  South Shields       1713        71\n",
       "51          52    North      Stockport       1557        13\n",
       "52          53    North          Stoke       1640        57\n",
       "53          54    North     Sunderland       1709        71\n",
       "55          56    North       Wallasey       1625        20\n",
       "60          61    North           York       1378        71"
      ]
     },
     "execution_count": 56,
     "metadata": {},
     "output_type": "execute_result"
    }
   ],
   "source": [
    "df_north = df.loc[df['location'] == 'North'].copy()\n",
    "df_north"
   ]
  },
  {
   "cell_type": "code",
   "execution_count": 57,
   "metadata": {
    "scrolled": true
   },
   "outputs": [
    {
     "name": "stdout",
     "output_type": "stream",
     "text": [
      "Юг\n",
      "           hardness  mortality\n",
      "hardness   1.000000  -0.602153\n",
      "mortality -0.602153   1.000000\n",
      "           hardness  mortality\n",
      "hardness   1.000000  -0.595723\n",
      "mortality -0.595723   1.000000\n",
      "\n",
      "Север\n",
      "           hardness  mortality\n",
      "hardness   1.000000  -0.368598\n",
      "mortality -0.368598   1.000000\n",
      "           hardness  mortality\n",
      "hardness   1.000000  -0.404208\n",
      "mortality -0.404208   1.000000\n"
     ]
    }
   ],
   "source": [
    "print('Юг')\n",
    "print(df_south[['hardness', 'mortality']].corr())\n",
    "print(df_south[['hardness', 'mortality']].corr(method='spearman'))\n",
    "print()\n",
    "print('Север')\n",
    "print(df_north[['hardness', 'mortality']].corr())\n",
    "print(df_north[['hardness', 'mortality']].corr(method='spearman'))"
   ]
  },
  {
   "cell_type": "markdown",
   "metadata": {},
   "source": [
    "## Вывод\n",
    "\n",
    "Корреляция сильнее у Южных штатов"
   ]
  }
 ],
 "metadata": {
  "kernelspec": {
   "display_name": "Python 3",
   "language": "python",
   "name": "python3"
  },
  "language_info": {
   "codemirror_mode": {
    "name": "ipython",
    "version": 3
   },
   "file_extension": ".py",
   "mimetype": "text/x-python",
   "name": "python",
   "nbconvert_exporter": "python",
   "pygments_lexer": "ipython3",
   "version": "3.8.3"
  }
 },
 "nbformat": 4,
 "nbformat_minor": 4
}
