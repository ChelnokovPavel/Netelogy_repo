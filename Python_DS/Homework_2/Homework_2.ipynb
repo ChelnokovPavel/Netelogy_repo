{
 "cells": [
  {
   "cell_type": "code",
   "execution_count": 57,
   "metadata": {},
   "outputs": [
    {
     "name": "stdout",
     "output_type": "stream",
     "text": [
      "tW\n"
     ]
    }
   ],
   "source": [
    "# Задание 1\n",
    "\n",
    "word = 'TestWord'\n",
    "    \n",
    "if len(word) % 2 == 0:\n",
    "    print(word[len(word)//2-1:len(word)//2+1])\n",
    "else:\n",
    "    print(word[len(word)//2])"
   ]
  },
  {
   "cell_type": "code",
   "execution_count": 1,
   "metadata": {
    "scrolled": true
   },
   "outputs": [
    {
     "name": "stdout",
     "output_type": "stream",
     "text": [
      "Введите число: 1\n",
      "Введите число: 6\n",
      "Введите число: 4\n",
      "Введите число: 8\n",
      "Введите число: 0\n",
      "Результат:19\n"
     ]
    }
   ],
   "source": [
    "# Задание 2\n",
    "\n",
    "num = 1\n",
    "sum_ = 0\n",
    "\n",
    "# while num != 0:\n",
    "#     num = int(input('Введите число: '))\n",
    "#     print('Результат:' + str(num))\n",
    "\n",
    "while num != 0:\n",
    "    num = int(input('Введите число: '))\n",
    "    sum_ += num\n",
    "print('Результат:' + str(sum_))"
   ]
  },
  {
   "cell_type": "code",
   "execution_count": 54,
   "metadata": {
    "scrolled": true
   },
   "outputs": [
    {
     "name": "stdout",
     "output_type": "stream",
     "text": [
      "Идеальные пары: Alex и Emma\n",
      "Идеальные пары: Arthur и Kate\n",
      "Идеальные пары: John и Kira\n",
      "Идеальные пары: Peter и Liza\n",
      "Идеальные пары: Richard и Trisha\n"
     ]
    }
   ],
   "source": [
    "# Задание 3\n",
    "\n",
    "boys = ['Peter', 'Alex', 'John', 'Arthur', 'Richard']\n",
    "girls = ['Kate', 'Liza', 'Kira', 'Emma', 'Trisha']\n",
    "\n",
    "if len(boys) == len(girls): \n",
    "    boys_and_girls_zip = zip(sorted(boys), sorted(girls))\n",
    "    boys_and_girls_list = list(boys_and_girls_zip)\n",
    "    for elem in boys_and_girls_list:\n",
    "        print('Идеальные пары: ' + str(elem[0]) + ' и ' + str(elem[1]))\n",
    "else:\n",
    "    print('Внимание, кто-то может остаться без пары!')"
   ]
  },
  {
   "cell_type": "code",
   "execution_count": 43,
   "metadata": {
    "scrolled": true
   },
   "outputs": [
    {
     "name": "stdout",
     "output_type": "stream",
     "text": [
      "Thailand - 23.857142857142854\n",
      "\n",
      "Germany - 13.799999999999997\n",
      "\n",
      "Russia - 3.7142857142857166\n",
      "\n",
      "Poland - 11.999999999999996\n",
      "\n"
     ]
    }
   ],
   "source": [
    "# Задание 4\n",
    "\n",
    "countries_temperature = [\n",
    "['Thailand', [75.2, 77, 78.8, 73.4, 68, 75.2, 77]],\n",
    "['Germany', [57.2, 55.4, 59, 59, 53.6]],\n",
    "['Russia', [35.6, 37.4, 39.2, 41, 42.8, 39.2, 35.6]],\n",
    "['Poland', [50, 50, 53.6, 57.2, 55.4, 55.4]]\n",
    "]\n",
    "\n",
    "for country in countries_temperature:\n",
    "    print(country[0] + ' - ' + str((sum(country[1])/len(country[1])-32)/1.8))\n",
    "    print()\n",
    "    \n",
    "    \n",
    "# Thailand - 23.9 С\n",
    "# Germany - 13.8 С\n",
    "# Russia - 3.7 С\n",
    "# Poland - 12.0 С"
   ]
  },
  {
   "cell_type": "code",
   "execution_count": 278,
   "metadata": {
    "scrolled": false
   },
   "outputs": [
    {
     "name": "stdout",
     "output_type": "stream",
     "text": [
      "145.33333333333334\n"
     ]
    }
   ],
   "source": [
    "# Задание 5\n",
    "\n",
    "# stream = [\n",
    "# '2018-01-01,user1,3',\n",
    "# '2018-01-07,user1,4',\n",
    "# '2018-03-29,user1,1',\n",
    "# '2018-04-04,user1,13',\n",
    "# '2018-01-05,user2,7',\n",
    "# '2018-06-14,user3,4',\n",
    "# '2018-07-02,user3,10',\n",
    "# '2018-03-21,user4,19',\n",
    "# '2018-03-22,user4,4',\n",
    "# '2018-04-22,user4,8',\n",
    "# '2018-05-03,user4,9',\n",
    "# '2018-05-11,user4,11',\n",
    "# ]\n",
    "\n",
    "stream = [\n",
    "'2018-01-01,user100,150',\n",
    "'2018-01-07,user99,205',\n",
    "'2018-03-29,user1001,81'\n",
    "]\n",
    "\n",
    "users = []\n",
    "\n",
    "for row1 in stream:\n",
    "    user = row1[11:([i for i, n in enumerate(row1) if n == ','][1])]\n",
    "    if user not in users:\n",
    "        users.append(user)     \n",
    "\n",
    "viewing = []\n",
    "\n",
    "for elem in users:  \n",
    "    viewing.append(sum_)\n",
    "    sum_ = 0\n",
    "    for row2 in stream:   \n",
    "        if elem == row2[11:([i for i, n in enumerate(row2) if n == ','][1])]:\n",
    "            sum_ += int(row2[([i for i, n in enumerate(row2) if n == ','][1])+1:])            \n",
    "            \n",
    "print(sum(viewing)/len(viewing))\n",
    "\n",
    "# Скажу честно, конструкцию [i for i, n in enumerate(row2) if n == ','][1]\n",
    "# Оч примерно понимаю как она работает\n",
    "# Варианты проще в голову вообще не лезут   "
   ]
  },
  {
   "cell_type": "code",
   "execution_count": 291,
   "metadata": {},
   "outputs": [
    {
     "name": "stdout",
     "output_type": "stream",
     "text": [
      "Введите числа разделенные пробелом 5 5 5 7 8 2 4 6 \n",
      "Результат: 5 7 8 2 4 6 \n"
     ]
    }
   ],
   "source": [
    "# Задание 6\n",
    "\n",
    "val1 = input('Введите числа разделенные пробелом ')\n",
    "val2 = ''\n",
    "\n",
    "if ' ' not in val1:\n",
    "    print('error')\n",
    "else:\n",
    "    for letter in val1:\n",
    "        if letter != '' and letter not in val2:\n",
    "            val2 += letter\n",
    "            val2 += ' '\n",
    "print('Результат: ' + val2)"
   ]
  }
 ],
 "metadata": {
  "kernelspec": {
   "display_name": "Python 3",
   "language": "python",
   "name": "python3"
  },
  "language_info": {
   "codemirror_mode": {
    "name": "ipython",
    "version": 3
   },
   "file_extension": ".py",
   "mimetype": "text/x-python",
   "name": "python",
   "nbconvert_exporter": "python",
   "pygments_lexer": "ipython3",
   "version": "3.8.3"
  }
 },
 "nbformat": 4,
 "nbformat_minor": 4
}
