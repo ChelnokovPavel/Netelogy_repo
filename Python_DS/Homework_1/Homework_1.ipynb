{
 "cells": [
  {
   "cell_type": "code",
   "execution_count": 26,
   "metadata": {},
   "outputs": [
    {
     "name": "stdout",
     "output_type": "stream",
     "text": [
      "Введите первое значение 1\n",
      "1\n",
      "Введите второе значение 1\n",
      "1\n",
      "Фразы равной длинны\n"
     ]
    }
   ],
   "source": [
    "# Задача 1\n",
    "\n",
    "phrase_1 = len(input('Введите первое значение '))\n",
    "print(phrase_1)\n",
    "phrase_2 = len(input('Введите второе значение '))\n",
    "print(phrase_2)\n",
    "\n",
    "if phrase_1 > phrase_2: print('Фраза 1 длиннее фразы 2')\n",
    "elif phrase_1 > phrase_2: print('Фраза 2 длиннее фразы 1')\n",
    "else: print('Фразы равной длинны')\n"
   ]
  },
  {
   "cell_type": "code",
   "execution_count": 25,
   "metadata": {},
   "outputs": [
    {
     "name": "stdout",
     "output_type": "stream",
     "text": [
      "Введите год на проверку 2020\n",
      "Високосный\n"
     ]
    }
   ],
   "source": [
    "# Задача 2\n",
    "\n",
    "Y = int(input('Введите год на проверку '))\n",
    "\n",
    "if (Y % 4) == 0:\n",
    "    if (Y % 100) != 0 or (Y % 400) == 0:print('Високосный')\n",
    "else:print('Обычный')"
   ]
  },
  {
   "cell_type": "code",
   "execution_count": 69,
   "metadata": {},
   "outputs": [
    {
     "name": "stdout",
     "output_type": "stream",
     "text": [
      "Введите день своего рождения 4\n",
      "Введите месяц своего рождения 10\n",
      "Весы\n"
     ]
    }
   ],
   "source": [
    "# Задача 3\n",
    "\n",
    "D = int(input('Введите день своего рождения '))\n",
    "M = int(input('Введите месяц своего рождения '))\n",
    "\n",
    "if D >= 1 and D <= 30:\n",
    "    if M == 1:\n",
    "        if D <= 20:print('Козерог')\n",
    "        else:print('Водолей')\n",
    "    elif M == 2:\n",
    "        if D <= 19:print('Водолей')\n",
    "        else:print('Рыбы')\n",
    "    elif M == 3:\n",
    "        if D <= 20:print('Рыбы')\n",
    "        else:print('Овен')\n",
    "    elif M == 4:\n",
    "        if D <= 20:print('Овен')\n",
    "        else:print('Телец')\n",
    "    elif M == 5:\n",
    "        if D <= 21:print('Телец')\n",
    "        else:print('Близнецы')\n",
    "    elif M == 6:\n",
    "        if D <= 21:print('Близнецы')\n",
    "        else:print('Рак')\n",
    "    elif M == 7:\n",
    "        if D <= 22:print('Рак')\n",
    "        else:print('Лев')\n",
    "    elif M == 8:\n",
    "        if D <= 21:print('Лев')\n",
    "        else:print('Дева')\n",
    "    elif M == 9:\n",
    "        if D <= 22:print('Дева')\n",
    "        else:print('Весы')\n",
    "    elif M == 10:\n",
    "        if D <= 24:print('Весы')\n",
    "        else:print('Скорпион')\n",
    "    elif M == 11:\n",
    "        if D <= 24:print('Скорпион')\n",
    "        else:print('Стрелец')\n",
    "    elif M == 12:\n",
    "        if D <= 22:print('Стрелец')\n",
    "        else:print('Козерог')\n",
    "    else:print('Не правильно введен месяц')\n",
    "else:print('Не правильно введен день')"
   ]
  },
  {
   "cell_type": "code",
   "execution_count": 75,
   "metadata": {},
   "outputs": [
    {
     "name": "stdout",
     "output_type": "stream",
     "text": [
      "width 4\n",
      "length 205\n",
      "height 17\n",
      "Упаковка для лыж\n"
     ]
    }
   ],
   "source": [
    "# Задача 4\n",
    "\n",
    "width = int(input('width '))\n",
    "length = int(input('length '))\n",
    "height = int(input('height '))\n",
    "\n",
    "if width < 15 and length < 15 and height < 15:print('Коробка №1')\n",
    "elif length > 200:print('Упаковка для лыж')\n",
    "elif ((width > 15 and width < 50) or (length > 15 and length < 50) or (height > 15 and height < 50)):print('Коробка №2')  \n",
    "else:print('Стандартная коробка №3')"
   ]
  },
  {
   "cell_type": "code",
   "execution_count": 86,
   "metadata": {},
   "outputs": [
    {
     "name": "stdout",
     "output_type": "stream",
     "text": [
      "Введите номер билетика 555555\n",
      "Ваш билетик счастливый\n"
     ]
    }
   ],
   "source": [
    "# Задача 5\n",
    "\n",
    "Number = str(input('Введите номер билетика '))\n",
    "\n",
    "if (int(Number[0])+int(Number[1])+int(Number[2])) == (int(Number[3])+int(Number[4])+int(Number[5])):\n",
    "    print('Ваш билетик счастливый')\n",
    "else:print('Ваш билетик НЕ счастливый')"
   ]
  },
  {
   "cell_type": "code",
   "execution_count": 103,
   "metadata": {},
   "outputs": [
    {
     "name": "stdout",
     "output_type": "stream",
     "text": [
      "Введите номер фигуры 1 - круг, 2 - треугольник, 3 - прямоугольник 3\n",
      "Введите длину прямоугольника 5\n",
      "Введите ширину прямоугольника 10\n",
      "50.0\n"
     ]
    }
   ],
   "source": [
    "# Задача 6\n",
    "\n",
    "F = int(input('Введите номер фигуры 1 - круг, 2 - треугольник, 3 - прямоугольник '))\n",
    "\n",
    "if F < 1 or F > 3:\n",
    "    print('Введите корректный номер фигуры!')\n",
    "else:\n",
    "    if F == 1:\n",
    "        r = float(input('Введите радиус круга '))\n",
    "        S = 3.14 * r**2\n",
    "        print(S)\n",
    "    elif F == 2:\n",
    "        a = float(input('Введите длину стороны a '))\n",
    "        b = float(input('Введите длину стороны b '))\n",
    "        c = float(input('Введите длину стороны c '))\n",
    "        p = (a+b+c)/2\n",
    "        S = (p*(p-a)*(p-b)*(p-c))**.5\n",
    "        print(S)\n",
    "    elif F == 3:\n",
    "        a = float(input('Введите длину прямоугольника '))\n",
    "        b = float(input('Введите ширину прямоугольника '))\n",
    "        S = a*b\n",
    "        print(S)"
   ]
  }
 ],
 "metadata": {
  "kernelspec": {
   "display_name": "Python 3",
   "language": "python",
   "name": "python3"
  },
  "language_info": {
   "codemirror_mode": {
    "name": "ipython",
    "version": 3
   },
   "file_extension": ".py",
   "mimetype": "text/x-python",
   "name": "python",
   "nbconvert_exporter": "python",
   "pygments_lexer": "ipython3",
   "version": "3.8.3"
  }
 },
 "nbformat": 4,
 "nbformat_minor": 4
}
