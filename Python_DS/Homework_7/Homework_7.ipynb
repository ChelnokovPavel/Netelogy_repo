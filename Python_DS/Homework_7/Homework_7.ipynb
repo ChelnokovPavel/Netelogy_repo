{
 "cells": [
  {
   "cell_type": "code",
   "execution_count": 177,
   "metadata": {},
   "outputs": [],
   "source": [
    "#Импортирую из файла класс Rate\n",
    "from exchange import Rate\n",
    "# Создаю свой класс наследуя класс Rate\n",
    "class My_Rate(Rate):\n",
    "    \n",
    "    def __init__(self, format='full', diff=False):\n",
    "        super().__init__(format)\n",
    "        self.diff = diff\n",
    "\n",
    "    # Задача 1\n",
    "    def max_val(self):\n",
    "        response = self.exchange_rates()\n",
    "        values=[]\n",
    "        for val in response.values():\n",
    "            values.append(val['Value'])\n",
    "        return max(values) \n",
    "        \n",
    "    # Задача 2    \n",
    "    def eur(self):\n",
    "        \"\"\"Возвращает курс евро на сегодня в формате self.format\"\"\"\n",
    "        if self.diff == True:\n",
    "            Cur = self.make_format('EUR')\n",
    "            return(Cur['Value']-Cur['Previous'])\n",
    "        else:\n",
    "            self.format='value'\n",
    "            return self.make_format('EUR')\n",
    "    \n",
    "    def usd(self):\n",
    "        \"\"\"Возвращает курс доллара на сегодня в формате self.format\"\"\"\n",
    "        if self.diff == True:\n",
    "            Cur = self.make_format('USD')\n",
    "            return(Cur['Value']-Cur['Previous'])\n",
    "        else:\n",
    "            self.format='value'\n",
    "            return self.make_format('USD')\n",
    "\n",
    "    def AZN(self):\n",
    "        \"\"\"Возвращает курс азербайджанского маната на сегодня в формате self.format\"\"\"\n",
    "        if self.diff == True:\n",
    "            Cur = self.make_format('AZN')\n",
    "            return(Cur['Value']-Cur['Previous'])\n",
    "        else:\n",
    "            self.format='value'\n",
    "            return self.make_format('AZN')"
   ]
  },
  {
   "cell_type": "code",
   "execution_count": 178,
   "metadata": {},
   "outputs": [],
   "source": [
    "R = My_Rate(format='full', diff=True)"
   ]
  },
  {
   "cell_type": "code",
   "execution_count": 181,
   "metadata": {},
   "outputs": [
    {
     "data": {
      "text/plain": [
       "104.8153"
      ]
     },
     "execution_count": 181,
     "metadata": {},
     "output_type": "execute_result"
    }
   ],
   "source": [
    "R.max_val()"
   ]
  },
  {
   "cell_type": "code",
   "execution_count": 182,
   "metadata": {
    "scrolled": true
   },
   "outputs": [
    {
     "data": {
      "text/plain": [
       "-0.5929000000000002"
      ]
     },
     "execution_count": 182,
     "metadata": {},
     "output_type": "execute_result"
    }
   ],
   "source": [
    "R.usd()"
   ]
  },
  {
   "cell_type": "code",
   "execution_count": 183,
   "metadata": {},
   "outputs": [],
   "source": [
    "class Employee:\n",
    "    def __init__(self, name, seniority):\n",
    "        self.name = name\n",
    "        self.seniority = seniority\n",
    "        \n",
    "        self.grade = 1\n",
    "    \n",
    "    def grade_up(self):\n",
    "        \"\"\"Повышает уровень сотрудника\"\"\"\n",
    "        self.grade += 1\n",
    "    \n",
    "    def publish_grade(self):\n",
    "        \"\"\"Публикация результатов аккредитации сотрудников\"\"\"\n",
    "        print(self.name, self.grade)\n",
    "    \n",
    "    def check_if_it_is_time_for_upgrade(self):\n",
    "        pass"
   ]
  },
  {
   "cell_type": "markdown",
   "metadata": {},
   "source": [
    "Задание 3\n",
    "Напишите класс Designer, который учитывает количество международных премий. Подсказки в коде занятия в разделе “Домашнее задание задача 3”.\n",
    "\n",
    "Комментарий по классу Designer такой:\n",
    "Напишите класс Designer, который учитывает количество международных премий для дизайнеров (из презентации: “Повышение на 1 грейд за каждые 7 баллов. Получение международной премии – это +2 балла”). Считайте, что при выходе на работу сотрудник уже имеет две премии и их количество не меняется со стажем (конечно если хотите это можно вручную менять).\n",
    "\n",
    "Класс Designer пишется по аналогии с классом Developer из материалов занятия. Комментарий про его условия Вика написала выше: “Повышение на 1 грейд за каждые 7 баллов. Получение международной премии – это +2 балла”"
   ]
  },
  {
   "cell_type": "code",
   "execution_count": 319,
   "metadata": {},
   "outputs": [],
   "source": [
    "class Designer(Employee):\n",
    "    def __init__(self, name, seniority):\n",
    "        super().__init__(name, seniority)        \n",
    "        self.world_prizes = 2\n",
    "        \n",
    "    def add_world_prize(self):\n",
    "        self.world_prizes += 1\n",
    "        print(self.world_prizes)\n",
    "        \n",
    "    def publish_cnt_wp(self):\n",
    "        print(self.name, self.world_prizes)        \n",
    "    \n",
    "    def check_if_it_is_time_for_upgrade(self):\n",
    "        \n",
    "        # берем баллы для аккредитации из мировых премий\n",
    "        wp = self.world_prizes*2\n",
    "        \n",
    "        # для каждой аккредитации увеличиваем счетчик на 1\n",
    "        # пока считаем, что все разработчики проходят аккредитацию\n",
    "        self.seniority += 1\n",
    "        \n",
    "        # условие повышения сотрудника из презентации\n",
    "        if (self.seniority+wp)/7 > 1:\n",
    "            self.grade_up()\n",
    "        \n",
    "        # публикация результатов\n",
    "        return self.publish_grade()"
   ]
  },
  {
   "cell_type": "code",
   "execution_count": 320,
   "metadata": {},
   "outputs": [],
   "source": [
    "Lebedev = Designer('Лебедев', 0)"
   ]
  },
  {
   "cell_type": "markdown",
   "metadata": {},
   "source": [
    "Прекрасно понимаю, что если взять ниже range больше 4-ех, то пойдет не правильная информация. Но сотруднику же никто не будет в цикле давать повышения. Процесс будет ручной и итерационный.\n",
    "\n",
    "Я могу написать цикл, который бы смотрел что нужно повышать, потом высчитывал на сколько грейдов сразу повышать, но думаю это излишне"
   ]
  },
  {
   "cell_type": "code",
   "execution_count": 321,
   "metadata": {
    "scrolled": false
   },
   "outputs": [
    {
     "name": "stdout",
     "output_type": "stream",
     "text": [
      "Лебедев 1\n",
      "Лебедев 1\n",
      "Лебедев 1\n",
      "Лебедев 2\n"
     ]
    }
   ],
   "source": [
    "for i in range(4):\n",
    "    Lebedev.check_if_it_is_time_for_upgrade()"
   ]
  }
 ],
 "metadata": {
  "kernelspec": {
   "display_name": "Python 3",
   "language": "python",
   "name": "python3"
  },
  "language_info": {
   "codemirror_mode": {
    "name": "ipython",
    "version": 3
   },
   "file_extension": ".py",
   "mimetype": "text/x-python",
   "name": "python",
   "nbconvert_exporter": "python",
   "pygments_lexer": "ipython3",
   "version": "3.8.3"
  }
 },
 "nbformat": 4,
 "nbformat_minor": 4
}
