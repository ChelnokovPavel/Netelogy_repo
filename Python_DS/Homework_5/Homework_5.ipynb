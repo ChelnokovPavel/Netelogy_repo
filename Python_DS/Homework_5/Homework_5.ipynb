{
 "cells": [
  {
   "cell_type": "markdown",
   "metadata": {},
   "source": [
    "1. Переведите содержимое файла purchase_log.txt в словарь purchases вида:\\\n",
    "{‘1840e0b9d4’: ‘Продукты’, …}\n",
    "\n",
    "2. Для каждого user_id в файле visit_log.csv определите третий столбец с категорией покупки (если покупка была, сам файл visit_log.csv изменять не надо).\\\n",
    "Запишите в файл funnel.csv визиты из файла visit_log.csv, в которых были покупки с указанием категории.\n",
    "\n",
    "Учтите условия на данные:\\\n",
    "содержимое purchase_log.txt помещается в оперативную память компьютера\\\n",
    "содержимое visit_log.csv - нет; используйте только построчную обработку этого файла"
   ]
  },
  {
   "cell_type": "code",
   "execution_count": 2,
   "metadata": {
    "scrolled": true
   },
   "outputs": [
    {
     "name": "stdout",
     "output_type": "stream",
     "text": [
      "1840e0b9d4,other,Продукты\n",
      "4e4f90fcfb,context,Электроника\n",
      "afea8d72fc,other,Электроника\n",
      "2824221f38,email,Продукты\n",
      "373a6055fe,other,Бытовая техника\n",
      "9b2ab046f3,other,Электроника\n",
      "9f39d307c3,context,Электроника\n",
      "44edeffc91,context,Продукты\n",
      "704474fa2d,other,Продукты\n",
      "1de31be403,other,Бытовая техника\n",
      "5da0dedf13,context,Досуг\n",
      "b71f36a5e4,other,Продукты\n",
      "79843a685a,context,Продукты\n",
      "ff68cee0d6,context,Бытовая техника\n",
      "e8447c40e2,email,Досуг\n",
      "b9ef8fdf47,other,Продукты\n",
      "98d290be27,other,Электроника\n",
      "3fff459bda,other,Электроника\n",
      "fa0079a5a8,other,Досуг\n",
      "fdd6b2fc76,context,Бытовая техника\n",
      "54ecd881a2,other,Бытовая техника\n",
      "22d2f03a17,context,Досуг\n",
      "c9fa1b54d5,other,Продукты\n",
      "3f8e1ccd3f,other,Электроника\n",
      "81a9988b83,context,Электроника\n",
      "65f44a2eb7,context,Досуг\n",
      "6df948569b,other,Бытовая техника\n",
      "5f8fbb0149,other,Бытовая техника\n",
      "3ecff691fd,context,Электроника\n",
      "dd0e912251,other,Электроника\n",
      "9250593d55,other,Электроника\n",
      "37c4e090e4,other,Электроника\n",
      "22fa3ea76f,other,Электроника\n",
      "73b876b237,context,Электроника\n",
      "ed6b87f95d,context,Досуг\n",
      "f983a69d67,other,Товары для животных\n",
      "4ea17212f8,other,Продукты\n",
      "c6de96a5e2,other,Товары для животных\n",
      "4175fd2e58,other,Электроника\n",
      "d8e3bcee53,context,Продукты\n",
      "680aa815f9,other,Продукты\n",
      "4a92a68cf9,other,Электроника\n",
      "905e60cb52,other,Бытовая техника\n",
      "393bcfb298,other,Продукты\n",
      "06d450cc57,context,Электроника\n",
      "b60ce22f17,other,Электроника\n",
      "6f159c4c2e,other,Товары для животных\n",
      "564202f6bd,context,Электроника\n",
      "1908683775,other,Электроника\n",
      "8fd957a463,other,Продукты\n",
      "72e0a3f1d0,other,Бытовая техника\n",
      "7f5f56e517,other,Досуг\n",
      "bc1a0a7e26,other,Досуг\n",
      "17639fe89d,other,Досуг\n",
      "74c9201f84,context,Электроника\n",
      "bc4ebda0df,other,Досуг\n",
      "fe4615dd15,other,Досуг\n",
      "d2c560746d,other,Бытовая техника\n",
      "f0a93d52d2,other,Электроника\n",
      "fe52ded300,other,Электроника\n",
      "dbe70d84e4,context,Строительство и ремонт\n",
      "f660dbcc3f,context,Электроника\n",
      "f93283c9ee,other,Бытовая техника\n",
      "66bea9bf58,other,Бытовая техника\n",
      "111c52d9bc,other,Продукты\n",
      "16dc76e94d,other,Электроника\n",
      "87f37b380c,other,Продукты\n",
      "365e3edd2e,other,Бытовая техника\n",
      "830421d975,other,Продукты\n",
      "7d6c62f0a2,context,Бытовая техника\n",
      "77465a0b61,other,Бытовая техника\n",
      "ee9eb52181,email,Товары для животных\n"
     ]
    }
   ],
   "source": [
    "import json\n",
    "\n",
    "i = 0\n",
    "\n",
    "with open('visit_log.csv', 'r', encoding='utf-8') as f1:\n",
    "    next(f1)    \n",
    "    f2 = [json.loads(x) for x in open('purchase_log.txt', 'r', encoding='utf-8').readlines()]\n",
    "    with open('funnel.csv', 'w', encoding='utf-8') as f3write:\n",
    "        for line1 in f1: \n",
    "            for line2 in f2:                \n",
    "                if line1.strip().split(',')[0] == line2['user_id']:\n",
    "                    print(line1.strip() + ',' + line2['category'])\n",
    "                    f3write.write(line1.strip() + ',' + line2['category'] + '\\n')\n",
    "                    break\n",
    "            i += 1\n",
    "            if i == 1000:\n",
    "                break "
   ]
  }
 ],
 "metadata": {
  "kernelspec": {
   "display_name": "Python 3",
   "language": "python",
   "name": "python3"
  },
  "language_info": {
   "codemirror_mode": {
    "name": "ipython",
    "version": 3
   },
   "file_extension": ".py",
   "mimetype": "text/x-python",
   "name": "python",
   "nbconvert_exporter": "python",
   "pygments_lexer": "ipython3",
   "version": "3.8.3"
  }
 },
 "nbformat": 4,
 "nbformat_minor": 4
}
