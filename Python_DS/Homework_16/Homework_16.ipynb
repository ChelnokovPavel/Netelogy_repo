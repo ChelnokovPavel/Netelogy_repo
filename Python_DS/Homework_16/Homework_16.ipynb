{
 "cells": [
  {
   "cell_type": "code",
   "execution_count": 1,
   "metadata": {},
   "outputs": [],
   "source": [
    "import numpy as np"
   ]
  },
  {
   "cell_type": "code",
   "execution_count": 12,
   "metadata": {},
   "outputs": [
    {
     "name": "stdout",
     "output_type": "stream",
     "text": [
      "Потратил: 10000000, выиграл: 8003691, 0.8003691\n"
     ]
    }
   ],
   "source": [
    "my_cash = 10000000\n",
    "win_cash = 0\n",
    "\n",
    "for i in range(my_cash):\n",
    "    random_score = np.random.randint(0, 1000) \n",
    "    if str(random_score).rjust(3, \"0\") == '777':\n",
    "        win_cash += 200\n",
    "    elif str(random_score).rjust(3, \"0\") == '999':\n",
    "        win_cash += 100\n",
    "    elif str(random_score).rjust(3, \"0\") == '555':\n",
    "        win_cash += 50\n",
    "    elif str(random_score).rjust(3, \"0\") == '333':\n",
    "        win_cash += 15\n",
    "    elif str(random_score).rjust(3, \"0\") == '111':\n",
    "        win_cash += 10\n",
    "    elif str(random_score).rjust(3, \"0\")[1:] == '77':\n",
    "        win_cash += 5\n",
    "    elif str(random_score).rjust(3, \"0\")[2:] == '7':\n",
    "        win_cash += 3\n",
    "    elif str(random_score).rjust(3, \"0\")[1:] == '00':\n",
    "        win_cash += 2\n",
    "    elif str(random_score).rjust(3, \"0\")[2:] == '0':\n",
    "        win_cash += 1\n",
    "        \n",
    "print(f'Потратил: {my_cash}, выиграл: {win_cash}, {win_cash/my_cash}')"
   ]
  },
  {
   "cell_type": "code",
   "execution_count": 20,
   "metadata": {},
   "outputs": [
    {
     "data": {
      "text/plain": [
       "-0.20399999999999996"
      ]
     },
     "execution_count": 20,
     "metadata": {},
     "output_type": "execute_result"
    }
   ],
   "source": [
    "# Доп задание\n",
    "\n",
    "q777_999_555_333_111 = 1/1000\n",
    "q77 = 9/1000\n",
    "q7 = 90/1000\n",
    "q00 = 10/1000\n",
    "q0 = 90/1000\n",
    "sum_ = q777_999_555_333_111 + q77 + q7 + q00 + q0\n",
    "\n",
    "full = q777_999_555_333_111*199 + q777_999_555_333_111*99 + q777_999_555_333_111*49 + \\\n",
    "       q777_999_555_333_111*14 + q777_999_555_333_111*9 + q77*4 + q7*2 + q00*1 + q0*0 + (-1*(1-sum_))\n",
    "full"
   ]
  }
 ],
 "metadata": {
  "kernelspec": {
   "display_name": "Python 3",
   "language": "python",
   "name": "python3"
  },
  "language_info": {
   "codemirror_mode": {
    "name": "ipython",
    "version": 3
   },
   "file_extension": ".py",
   "mimetype": "text/x-python",
   "name": "python",
   "nbconvert_exporter": "python",
   "pygments_lexer": "ipython3",
   "version": "3.8.3"
  }
 },
 "nbformat": 4,
 "nbformat_minor": 4
}
