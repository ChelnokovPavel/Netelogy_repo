{
 "cells": [
  {
   "cell_type": "code",
   "execution_count": 14,
   "metadata": {
    "scrolled": true
   },
   "outputs": [
    {
     "name": "stdout",
     "output_type": "stream",
     "text": [
      "{98, 35, 15, 213, 54, 119}\n"
     ]
    }
   ],
   "source": [
    "# Задание 1\n",
    "\n",
    "ids = {'user1': [213, 213, 213, 15, 213],\n",
    "'user2': [54, 54, 119, 119, 119],\n",
    "'user3': [213, 98, 98, 35]}\n",
    "ids\n",
    "\n",
    "lst = []\n",
    "\n",
    "for id_ in ids.values():\n",
    "    lst += id_    \n",
    "print(set(lst))"
   ]
  },
  {
   "cell_type": "code",
   "execution_count": 12,
   "metadata": {
    "scrolled": true
   },
   "outputs": [
    {
     "name": "stdout",
     "output_type": "stream",
     "text": [
      "Количество повторений 2\n",
      "42.857142857142854\n",
      "Поисковых запросов, содержащих 2 слов(а): 42.85%\n"
     ]
    }
   ],
   "source": [
    "# Задание 2\n",
    "\n",
    "queries = [\n",
    "'смотреть сериалы онлайн',\n",
    "'новости спорта',\n",
    "'афиша кино',\n",
    "'курс доллара',\n",
    "'сериалы этим летом',\n",
    "'курс по питону',\n",
    "'сериалы про спорт',\n",
    "]\n",
    "\n",
    "Dup_word = 'а'\n",
    "Dup_cnt = input('Количество повторений ')\n",
    "i = 0\n",
    "\n",
    "for querie in queries:\n",
    "    if querie.count(Dup_word.lower()) == int(Dup_cnt):\n",
    "        i += 1\n",
    "\n",
    "print(i/len(queries)*100)        \n",
    "print('Поисковых запросов, содержащих ' + Dup_cnt + ' слов(' + Dup_word + '): ' + str(i/len(queries)*100)[0:5] + '%')"
   ]
  },
  {
   "cell_type": "code",
   "execution_count": 31,
   "metadata": {},
   "outputs": [
    {
     "name": "stdout",
     "output_type": "stream",
     "text": [
      "Результат:\n",
      "\n",
      "Поисковых запросов, содержащих 2 слов(а): 42.85%\n",
      "Поисковых запросов, содержащих 2 слов(а): 57.14%\n"
     ]
    }
   ],
   "source": [
    "# Задание 2, вариант 2\n",
    "\n",
    "queries = [\n",
    "'смотреть сериалы онлайн',\n",
    "'новости спорта',\n",
    "'афиша кино',\n",
    "'курс доллара',\n",
    "'сериалы этим летом',\n",
    "'курс по питону',\n",
    "'сериалы про спорт',\n",
    "]\n",
    "\n",
    "cnt_2 = 0\n",
    "cnt_3 = 0\n",
    "\n",
    "for querie in queries:\n",
    "    if len((querie.split())) == 2:\n",
    "        cnt_2 += 1 \n",
    "    elif len((querie.split())) == 3:\n",
    "        cnt_3 += 1\n",
    "\n",
    "print('Результат:')   \n",
    "print()\n",
    "print('Поисковых запросов, содержащих 2 слов(а): ' + str(cnt_2/len(queries)*100)[0:5] + '%')\n",
    "print('Поисковых запросов, содержащих 2 слов(а): ' + str(cnt_3/len(queries)*100)[0:5] + '%')"
   ]
  },
  {
   "cell_type": "code",
   "execution_count": 114,
   "metadata": {
    "scrolled": true
   },
   "outputs": [
    {
     "name": "stdout",
     "output_type": "stream",
     "text": [
      "{'vk': {'revenue': 103, 'cost': 98, 'ROI': 5.1}, 'yandex': {'revenue': 179, 'cost': 153, 'ROI': 16.99}, 'facebook': {'revenue': 103, 'cost': 110, 'ROI': -6.36}, 'adwords': {'revenue': 35, 'cost': 34, 'ROI': 2.94}, 'twitter': {'revenue': 11, 'cost': 24, 'ROI': -54.17}}\n"
     ]
    }
   ],
   "source": [
    "# Задание 3\n",
    "# в 3 задаче не совсем понял, зачем вы предварительно завели переменную ROI, которую далее нигде не используете :)\n",
    "# Закоментил. Спешил просто\n",
    "\n",
    "results = {\n",
    "'vk': {'revenue': 103, 'cost': 98},\n",
    "'yandex': {'revenue': 179, 'cost': 153},\n",
    "'facebook': {'revenue': 103, 'cost': 110},\n",
    "'adwords': {'revenue': 35, 'cost': 34},\n",
    "'twitter': {'revenue': 11, 'cost': 24},\n",
    "}\n",
    "\n",
    "# ROI = 0    \n",
    "\n",
    "for key, val in results.items():\n",
    "    val['ROI'] = round(((val['revenue']/val['cost'] - 1) * 100), 2)\n",
    "print(results)"
   ]
  },
  {
   "cell_type": "code",
   "execution_count": 118,
   "metadata": {
    "scrolled": false
   },
   "outputs": [
    {
     "name": "stdout",
     "output_type": "stream",
     "text": [
      "{'facebook': 55, 'yandex': 115, 'vk': 120, 'google': 99, 'email': 42, 'ok': 98}\n",
      "120\n",
      "Максимальный объем продаж на рекламном канале:vk\n"
     ]
    }
   ],
   "source": [
    "# Задание 4\n",
    "\n",
    "stats = {'facebook': 55, 'yandex': 115, 'vk': 120, 'google': 99, 'email': 42, 'ok': 98}\n",
    "\n",
    "for key, val in stats.items():\n",
    "    if val == max(stats.values()):\n",
    "        print('Максимальный объем продаж на рекламном канале: ' + key)"
   ]
  },
  {
   "cell_type": "code",
   "execution_count": 33,
   "metadata": {},
   "outputs": [
    {
     "data": {
      "text/plain": [
       "'vk'"
      ]
     },
     "execution_count": 33,
     "metadata": {},
     "output_type": "execute_result"
    }
   ],
   "source": [
    "# Задание 4, вариант лаконичный)\n",
    "\n",
    "import operator\n",
    "stats = {'facebook': 55, 'yandex': 115, 'vk': 120, 'google': 99, 'email': 42, 'ok': 98}\n",
    "max(stats.items(), key=operator.itemgetter(1))[0]"
   ]
  },
  {
   "cell_type": "code",
   "execution_count": 49,
   "metadata": {
    "scrolled": true
   },
   "outputs": [
    {
     "name": "stdout",
     "output_type": "stream",
     "text": [
      "100\n",
      "cpc\n",
      "yandex\n",
      "2018-01-01\n",
      "{100: 100, 'cpc': 100, 'yandex': 100, '2018-01-01': 100}\n"
     ]
    }
   ],
   "source": [
    "# Задание 5 (необязательно)\n",
    "# Дан список произвольной длины. Необходимо написать код, который на основе исходного\n",
    "# списка составит словарь такого уровня вложенности, какова длина исхондого списка.\n",
    "\n",
    "# Примеры работы программы:\n",
    "\n",
    "# my_list = [‘2018-01-01’, ‘yandex’, ‘cpc’, 100]\n",
    "# Результат: {‘2018-01-01’: {‘yandex’: {‘cpc’: 100}}}\n",
    "\n",
    "# my_list = [‘a’, ‘b’, ‘c’, ‘d’, ‘e’, ‘f’]\n",
    "# Результат: {‘a’: {‘b’: {‘c’: {‘d’: {‘e’: ‘f’}}}}}\n",
    "\n",
    "# my_list = ['a', 'b', 'c', 'd', 'e', 'f']\n",
    "# Результат: {‘a’: {‘b’: {‘c’: {‘d’: {‘e’: ‘f’}}}}}\n",
    "\n",
    "# \n",
    "\n",
    "# i = len(my_list)-1\n",
    "# print(i)\n",
    "# while i != 0:\n",
    "# #     my_dict[my_list[i]] = my_list[0:i-1]\n",
    "#     my_dict[my_list[i]] = dict(my_list[i:])\n",
    "#     i -= 1\n",
    "#     print(i)\n",
    "    \n",
    "# print(my_dict)\n",
    "\n",
    "# b = dict(zip(my_list[::2], my_list[1::2]))\n",
    "# print(b)\n",
    "\n",
    "my_list = ['2018-01-01', 'yandex', 'cpc', 100]\n",
    "my_dict = {}\n",
    "\n",
    "res = my_list[-1]            \n",
    "for el in reversed(my_list):     \n",
    "    print(el)\n",
    "    my_dict[el] = res\n",
    "    \n",
    "print(my_dict)\n",
    "    \n"
   ]
  },
  {
   "cell_type": "code",
   "execution_count": 98,
   "metadata": {},
   "outputs": [
    {
     "name": "stdout",
     "output_type": "stream",
     "text": [
      "Введите количество порций 3\n",
      "\n",
      "сыр: [210, 'гр']\n",
      "томаты: [120, 'гр']\n",
      "огурцы: [60, 'гр']\n",
      "маслины: [30, 'гр']\n",
      "оливковое масло: [60, 'мл']\n",
      "салат: [30, 'гр']\n",
      "перец: [60, 'гр']\n",
      "колбаса: [90, 'гр']\n",
      "бекон: [90, 'гр']\n",
      "оливки: [30, 'гр']\n",
      "тесто: [300, 'гр']\n",
      "лимон: [3, 'шт']\n",
      "вода: [600, 'мл']\n",
      "сахар: [30, 'гр']\n",
      "лайм: [60, 'гр']\n"
     ]
    }
   ],
   "source": [
    "# Задание 6\n",
    "\n",
    "cook_book = {\n",
    "'салат': [\n",
    "{'ingridient_name': 'сыр', 'quantity': 50, 'measure': 'гр'},\n",
    "{'ingridient_name': 'томаты', 'quantity': 20, 'measure': 'гр'},\n",
    "{'ingridient_name': 'огурцы', 'quantity': 20, 'measure': 'гр'},\n",
    "{'ingridient_name': 'маслины', 'quantity': 10, 'measure': 'гр'},\n",
    "{'ingridient_name': 'оливковое масло', 'quantity': 20, 'measure': 'мл'},\n",
    "{'ingridient_name': 'салат', 'quantity': 10, 'measure': 'гр'},\n",
    "{'ingridient_name': 'перец', 'quantity': 20, 'measure': 'гр'}\n",
    "],\n",
    "'пицца': [\n",
    "{'ingridient_name': 'сыр', 'quantity': 20, 'measure': 'гр'},\n",
    "{'ingridient_name': 'колбаса', 'quantity': 30, 'measure': 'гр'},\n",
    "{'ingridient_name': 'бекон', 'quantity': 30, 'measure': 'гр'},\n",
    "{'ingridient_name': 'оливки', 'quantity': 10, 'measure': 'гр'},\n",
    "{'ingridient_name': 'томаты', 'quantity': 20, 'measure': 'гр'},\n",
    "{'ingridient_name': 'тесто', 'quantity': 100, 'measure': 'гр'},\n",
    "],\n",
    "'лимонад': [\n",
    "{'ingridient_name': 'лимон', 'quantity': 1, 'measure': 'шт'},\n",
    "{'ingridient_name': 'вода', 'quantity': 200, 'measure': 'мл'},\n",
    "{'ingridient_name': 'сахар', 'quantity': 10, 'measure': 'гр'},\n",
    "{'ingridient_name': 'лайм', 'quantity': 20, 'measure': 'гр'},\n",
    "]\n",
    "}\n",
    "\n",
    "cnt = input('Введите количество порций ')\n",
    "Unique_ingredients = {}\n",
    "\n",
    "for dish, ingredients in cook_book.items():\n",
    "    for ingredient in ingredients:\n",
    "        if ingredient['ingridient_name'] not in Unique_ingredients:\n",
    "            Unique_ingredients[ingredient['ingridient_name']] = [ingredient['quantity']*int(cnt), ingredient['measure']]\n",
    "        else:\n",
    "            Unique_ingredients[ingredient['ingridient_name']][0] += ingredient['quantity']*int(cnt)\n",
    "print()   \n",
    "\n",
    "for key, val in Unique_ingredients.items():\n",
    "    print(str(key) + ':', val)   \n"
   ]
  }
 ],
 "metadata": {
  "kernelspec": {
   "display_name": "Python 3",
   "language": "python",
   "name": "python3"
  },
  "language_info": {
   "codemirror_mode": {
    "name": "ipython",
    "version": 3
   },
   "file_extension": ".py",
   "mimetype": "text/x-python",
   "name": "python",
   "nbconvert_exporter": "python",
   "pygments_lexer": "ipython3",
   "version": "3.8.3"
  }
 },
 "nbformat": 4,
 "nbformat_minor": 4
}
