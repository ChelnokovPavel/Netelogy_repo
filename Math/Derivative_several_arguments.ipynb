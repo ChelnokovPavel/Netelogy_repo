{
 "cells": [
  {
   "cell_type": "markdown",
   "metadata": {
    "id": "MDcEqde2UtVJ"
   },
   "source": [
    "# Домашнее задание \"Производная функции нескольких аргументов\"."
   ]
  },
  {
   "cell_type": "code",
   "execution_count": 4,
   "metadata": {
    "id": "hkGWP9e5TgmG"
   },
   "outputs": [],
   "source": [
    "import numpy as np\n",
    "from scipy.optimize import approx_fprime"
   ]
  },
  {
   "cell_type": "markdown",
   "metadata": {
    "id": "Brjig4o4UnHe"
   },
   "source": [
    "### Уровень 0:"
   ]
  },
  {
   "cell_type": "markdown",
   "metadata": {
    "id": "xOv4al86VAw1"
   },
   "source": [
    "Посчитайте частные производные функций:"
   ]
  },
  {
   "cell_type": "markdown",
   "metadata": {
    "id": "fCyKnRYIUw2j"
   },
   "source": [
    "\n",
    "1) $f(x,y)=2x^2y^3 + 1/x + y^2x + 7$, а для этой функции также градиент в точке $(1,2)$\n",
    "\n",
    "2) $f(x,y)=x^2y - sin(xy) + cos(x^2) + 6y$\n",
    "\n",
    "$f(x, y)'_x = (2x^2y^3 + 1/x + y^2x + 7)'_x  = 4xy^3 - 1/x^2 + y^2    $  \\\\\n",
    "\n",
    "$f(x, y)'_y = (2x^2y^3 + 1/x + y^2x + 7)'_y = 6x^2y^2 + 2xy$ \\\\\n",
    "\n",
    "$f(x, y)'_x=(x^2y - sin(xy) + cos(x^2) + 6y)'_x  = 2xy - ycos(xy) - 2xsin(x^2)$ \\\\\n",
    "\n",
    "$f(x, y)'_y=(x^2y - sin(xy) + cos(x^2) + 6y)'_y = x^2 - xcos(xy) + 6$\n"
   ]
  },
  {
   "cell_type": "code",
   "execution_count": 5,
   "metadata": {
    "colab": {
     "base_uri": "https://localhost:8080/"
    },
    "id": "jDuwNjb73iBS",
    "outputId": "337b2347-694f-4704-d3bb-2a4d014af75d"
   },
   "outputs": [
    {
     "data": {
      "text/plain": [
       "array([35.000017, 28.000013])"
      ]
     },
     "execution_count": 5,
     "metadata": {},
     "output_type": "execute_result"
    }
   ],
   "source": [
    "import numpy as np\n",
    "#для этой функции также градиент в точке  (1,2)\n",
    "f = lambda x: 2*(x[0]**2)*(x[1]**3) + (1/x[0]) + (x[1]**2)*x[0] + 7 \n",
    "\n",
    "x = np.array([1, 2])\n",
    "approx_fprime(x, f, [1e-6, 1e-6])"
   ]
  },
  {
   "cell_type": "markdown",
   "metadata": {
    "id": "COzir0ZGVLtz"
   },
   "source": [
    "### Уровень 1:"
   ]
  },
  {
   "cell_type": "markdown",
   "metadata": {
    "id": "VIW3H6ChVOZQ"
   },
   "source": [
    "Градиентный спуск своими руками:"
   ]
  },
  {
   "cell_type": "code",
   "execution_count": 6,
   "metadata": {
    "id": "rFpy298AUwXs"
   },
   "outputs": [],
   "source": [
    "def f(x):\n",
    "    return (x[0]**2) + (x[1]**2)"
   ]
  },
  {
   "cell_type": "code",
   "execution_count": 7,
   "metadata": {
    "id": "-QoutSlMcZ7M"
   },
   "outputs": [],
   "source": [
    "x = np.array([100, 200])\n",
    "learning_rate = 0.1"
   ]
  },
  {
   "cell_type": "code",
   "execution_count": 8,
   "metadata": {
    "id": "kBQCpgyEcZ9j"
   },
   "outputs": [],
   "source": [
    "for i in range(100):\n",
    "    # Calculate gradient\n",
    "    grad = approx_fprime(x, f, [1e-6, 1e-6]) # Your code here (функция для вычисления градиента есть в лекционном ноутбуке)\n",
    "    \n",
    "    if np.all(np.abs((-learning_rate) * grad) <= 1e-07): # шаг стал слишком маленьким\n",
    "        break\n",
    "    \n",
    "    # Update x with gradient\n",
    "    x = x + (-learning_rate) * grad# Your code here (смотри слайд презентации про градиентный спуск)"
   ]
  },
  {
   "cell_type": "code",
   "execution_count": 9,
   "metadata": {
    "colab": {
     "base_uri": "https://localhost:8080/"
    },
    "id": "3rJwR2lecZ_i",
    "outputId": "aaae7f5d-b6ac-42ae-db60-ad7970fd11a7"
   },
   "outputs": [
    {
     "name": "stdout",
     "output_type": "stream",
     "text": [
      "Минимум достигается в:  [-2.62857800e-07 -2.57155987e-08]\n",
      "Значение функции в минимуме:  6.975551502981022e-14\n"
     ]
    }
   ],
   "source": [
    "print(\"Минимум достигается в: \", x)\n",
    "print(\"Значение функции в минимуме: \", f(x))"
   ]
  },
  {
   "cell_type": "markdown",
   "metadata": {
    "id": "eAw4uXx_UnJk"
   },
   "source": [
    "\n",
    "Проверка с помощью встроенной функции numpy:"
   ]
  },
  {
   "cell_type": "code",
   "execution_count": 14,
   "metadata": {
    "colab": {
     "base_uri": "https://localhost:8080/"
    },
    "id": "_O-rTJ1yciMI",
    "outputId": "a7a06d0e-117f-44b9-9619-31cef40346eb"
   },
   "outputs": [
    {
     "name": "stdout",
     "output_type": "stream",
     "text": [
      "Optimization terminated successfully.\n",
      "         Current function value: 0.000000\n",
      "         Iterations: 72\n",
      "         Function evaluations: 138\n"
     ]
    },
    {
     "data": {
      "text/plain": [
       " final_simplex: (array([[ 2.95771327e-07,  6.94893813e-08],\n",
       "       [-4.58440767e-07,  4.28023999e-07],\n",
       "       [-1.29572072e-08, -7.25847730e-07]]), array([9.23094520e-14, 3.93372481e-13, 5.27022817e-13]))\n",
       "           fun: 9.23094520377088e-14\n",
       "       message: 'Optimization terminated successfully.'\n",
       "          nfev: 138\n",
       "           nit: 72\n",
       "        status: 0\n",
       "       success: True\n",
       "             x: array([2.95771327e-07, 6.94893813e-08])"
      ]
     },
     "execution_count": 14,
     "metadata": {},
     "output_type": "execute_result"
    }
   ],
   "source": [
    "from scipy.optimize import minimize\n",
    "minimize(f, [100, 200], method = 'nelder-mead', options = { 'xtol' : 1e-6, 'disp' :True})"
   ]
  }
 ],
 "metadata": {
  "colab": {
   "collapsed_sections": [],
   "name": "HW_5_DONE.ipynb",
   "provenance": []
  },
  "kernelspec": {
   "display_name": "Python 3",
   "language": "python",
   "name": "python3"
  },
  "language_info": {
   "codemirror_mode": {
    "name": "ipython",
    "version": 3
   },
   "file_extension": ".py",
   "mimetype": "text/x-python",
   "name": "python",
   "nbconvert_exporter": "python",
   "pygments_lexer": "ipython3",
   "version": "3.8.8"
  }
 },
 "nbformat": 4,
 "nbformat_minor": 1
}
