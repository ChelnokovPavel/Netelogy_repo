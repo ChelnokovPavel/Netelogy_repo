{
 "cells": [
  {
   "cell_type": "markdown",
   "id": "651ef67b",
   "metadata": {},
   "source": [
    "\n",
    "## Домашнее задание \"Линейная алгебра. Векторы\".\n",
    "\n",
    "Даны вектора x = (1,1), y = (2, 0) и z = (0,2)\n",
    "\n",
    "Надо:\n",
    "\n",
    "- Изобразить вектора на экране\n",
    "- Изобразить точку x + y + z\n",
    "- Найти угол между векторами x и y"
   ]
  },
  {
   "cell_type": "code",
   "execution_count": 5,
   "id": "f84b84ad",
   "metadata": {},
   "outputs": [],
   "source": [
    "import numpy as np\n",
    "import matplotlib.pyplot as plt"
   ]
  },
  {
   "cell_type": "code",
   "execution_count": 16,
   "id": "dfcf486e",
   "metadata": {
    "scrolled": true
   },
   "outputs": [
    {
     "name": "stdout",
     "output_type": "stream",
     "text": [
      "[1. 1.] [2. 0.] [0. 2.] [3. 3.]\n"
     ]
    }
   ],
   "source": [
    "# X\n",
    "v1 = np.array([1., 1.])\n",
    "# Y\n",
    "v2 = np.array([2., 0.])\n",
    "# Z\n",
    "v3 = np.array([0., 2.])\n",
    "# X + Y + Z\n",
    "v4 = v1 + v2 + v3\n",
    "\n",
    "print(v1, v2, v3, v4)"
   ]
  },
  {
   "cell_type": "code",
   "execution_count": 14,
   "id": "20986625",
   "metadata": {
    "scrolled": true
   },
   "outputs": [
    {
     "data": {
      "image/png": "[encoded data removed]",
      "text/plain": [
       "<Figure size 432x288 with 1 Axes>"
      ]
     },
     "metadata": {
      "needs_background": "light"
     },
     "output_type": "display_data"
    }
   ],
   "source": [
    "plt.figure()\n",
    "# Изобразить вектора на экране\n",
    "plt.plot(v1[0], v1[1], 'o')\n",
    "plt.plot(v2[0], v2[1], 'o')\n",
    "plt.plot(v3[0], v3[1], 'o')\n",
    "# Изобразить точку x + y + z\n",
    "plt.plot(v4[0], v4[1], 'o')\n",
    "plt.grid()"
   ]
  },
  {
   "cell_type": "code",
   "execution_count": 18,
   "id": "437eed99",
   "metadata": {},
   "outputs": [
    {
     "data": {
      "text/plain": [
       "0.7071067811865475"
      ]
     },
     "execution_count": 18,
     "metadata": {},
     "output_type": "execute_result"
    }
   ],
   "source": [
    "ugol = np.dot(v1, v2)/(np.linalg.norm(v1) * np.linalg.norm(v2))\n",
    "ugol"
   ]
  }
 ],
 "metadata": {
  "kernelspec": {
   "display_name": "Python 3",
   "language": "python",
   "name": "python3"
  },
  "language_info": {
   "codemirror_mode": {
    "name": "ipython",
    "version": 3
   },
   "file_extension": ".py",
   "mimetype": "text/x-python",
   "name": "python",
   "nbconvert_exporter": "python",
   "pygments_lexer": "ipython3",
   "version": "3.8.8"
  }
 },
 "nbformat": 4,
 "nbformat_minor": 5
}
