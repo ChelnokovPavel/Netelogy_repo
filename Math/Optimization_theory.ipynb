{
 "cells": [
  {
   "cell_type": "markdown",
   "metadata": {
    "id": "fnTx5JrSddQV"
   },
   "source": [
    "# Домашнее задание \"Теория оптимизации\"."
   ]
  },
  {
   "cell_type": "markdown",
   "metadata": {
    "id": "Gwx7jfeReY-R"
   },
   "source": [
    "### Задание."
   ]
  },
  {
   "cell_type": "markdown",
   "metadata": {
    "id": "4JhHuyKfddSw"
   },
   "source": [
    "При фиксированном seed=42 поразбирайтесь и поэкспериментируйте с параметрами алгоритма дифференциальной эволюции: strategy, popsize, tol, mutation, recombination и updating.\n",
    "\n",
    "Постройте графики количества итераций оптимизации функции ackley от значения параметра."
   ]
  },
  {
   "cell_type": "markdown",
   "metadata": {
    "id": "AoJvQgnVddUy"
   },
   "source": [
    "### Дополнительное задание."
   ]
  },
  {
   "cell_type": "markdown",
   "metadata": {
    "id": "0G9zpm2ZddWr"
   },
   "source": [
    "Найти множество параметров (strategy=..., ..., updating=...), которые требуют минимального количества итераций."
   ]
  },
  {
   "cell_type": "code",
   "execution_count": null,
   "metadata": {
    "id": "mKoDq1O9epjS"
   },
   "outputs": [],
   "source": [
    "import numpy as np\n",
    "from scipy.optimize import differential_evolution"
   ]
  },
  {
   "cell_type": "code",
   "execution_count": null,
   "metadata": {
    "colab": {
     "base_uri": "https://localhost:8080/"
    },
    "id": "2BlN34tSeplM",
    "outputId": "f5a43d46-6af2-449c-8920-ca2333383ce0"
   },
   "outputs": [
    {
     "data": {
      "text/plain": [
       "     fun: 4.440892098500626e-16\n",
       " message: 'Optimization terminated successfully.'\n",
       "    nfev: 2793\n",
       "     nit: 90\n",
       " success: True\n",
       "       x: array([0., 0.])"
      ]
     },
     "execution_count": 2,
     "metadata": {},
     "output_type": "execute_result"
    }
   ],
   "source": [
    "def ackley(x):\n",
    "    arg1 = -0.2 * np.sqrt(0.5 * (x[0] ** 2 + x[1] ** 2))\n",
    "    arg2 = 0.5 * (np.cos(2. * np.pi * x[0]) + np.cos(2. * np.pi * x[1]))\n",
    "    return -20. * np.exp(arg1) - np.exp(arg2) + 20. + np.e\n",
    "\n",
    "bounds = [(-10, 10), (-10, 10)]\n",
    "\n",
    "result = differential_evolution(ackley, bounds, seed=42)\n",
    "result"
   ]
  },
  {
   "cell_type": "code",
   "execution_count": null,
   "metadata": {
    "colab": {
     "base_uri": "https://localhost:8080/"
    },
    "id": "phPd4jt89dlN",
    "outputId": "0bbd7ea8-1344-4da0-c57a-98585b6465b7"
   },
   "outputs": [
    {
     "data": {
      "text/plain": [
       "array([0., 0.])"
      ]
     },
     "execution_count": 3,
     "metadata": {},
     "output_type": "execute_result"
    }
   ],
   "source": [
    "result['x']"
   ]
  },
  {
   "cell_type": "code",
   "execution_count": 5,
   "metadata": {
    "colab": {
     "base_uri": "https://localhost:8080/"
    },
    "id": "PvMKejT_9Y-e",
    "outputId": "93b76b69-5c34-478b-949a-3b8d9890cafa"
   },
   "outputs": [
    {
     "name": "stdout",
     "output_type": "stream",
     "text": [
      "strat = rand1exp, x = [0. 0.], f = 4.440892098500626e-16, iter = 241\n",
      "strat = randtobest1exp, x = [0. 0.], f = 4.440892098500626e-16, iter = 160\n",
      "strat = currenttobest1exp, x = [0. 0.], f = 4.440892098500626e-16, iter = 1000\n",
      "strat = best2exp, x = [0. 0.], f = 4.440892098500626e-16, iter = 244\n",
      "strat = rand2exp, x = [0. 0.], f = 4.440892098500626e-16, iter = 363\n",
      "strat = randtobest1bin, x = [0. 0.], f = 4.440892098500626e-16, iter = 101\n",
      "strat = currenttobest1bin, x = [0. 0.], f = 4.440892098500626e-16, iter = 1000\n",
      "strat = best2bin, x = [0. 0.], f = 4.440892098500626e-16, iter = 166\n",
      "strat = rand2bin, x = [0. 0.], f = 4.440892098500626e-16, iter = 232\n",
      "strat = rand1bin, x = [0. 0.], f = 4.440892098500626e-16, iter = 168\n",
      "strat = best1bin, x = [0. 0.], f = 4.440892098500626e-16, iter = 90\n",
      "strat = best1exp, x = [0. 0.], f = 4.440892098500626e-16, iter = 140\n"
     ]
    }
   ],
   "source": [
    "arr = [ 'rand1exp', 'randtobest1exp', 'currenttobest1exp', 'best2exp', 'rand2exp', 'randtobest1bin', 'currenttobest1bin', 'best2bin', 'rand2bin', 'rand1bin', 'best1bin',  'best1exp']\n",
    "\n",
    "for strat in arr:\n",
    "    result = differential_evolution(ackley, bounds, strategy = strat, seed=42)\n",
    "    print(f\"strat = {strat}, x = {result['x']}, f = {result['fun']}, iter = {result['nit']}\")"
   ]
  },
  {
   "cell_type": "markdown",
   "metadata": {
    "id": "PwYv3BaDXL5x"
   },
   "source": [
    "Как можно заметить из запуска выше - наименьшее количество итераций у best1bin"
   ]
  },
  {
   "cell_type": "code",
   "execution_count": 9,
   "metadata": {
    "colab": {
     "base_uri": "https://localhost:8080/"
    },
    "id": "c6K2SdF79JRK",
    "outputId": "94934eee-d7dd-40af-f65e-3c03976e9f40"
   },
   "outputs": [
    {
     "name": "stdout",
     "output_type": "stream",
     "text": [
      "Population_size = 10, x = [0. 0.], f = 4.440892098500626e-16, iter = 97\n",
      "Population_size = 25, x = [0. 0.], f = 4.440892098500626e-16, iter = 94\n",
      "Population_size = 40, x = [0. 0.], f = 4.440892098500626e-16, iter = 98\n",
      "Population_size = 55, x = [0. 0.], f = 4.440892098500626e-16, iter = 93\n",
      "Population_size = 70, x = [0. 0.], f = 4.440892098500626e-16, iter = 96\n",
      "Population_size = 85, x = [0. 0.], f = 4.440892098500626e-16, iter = 99\n",
      "Population_size = 100, x = [0. 0.], f = 4.440892098500626e-16, iter = 101\n",
      "Population_size = 115, x = [0. 0.], f = 4.440892098500626e-16, iter = 94\n",
      "Population_size = 130, x = [0. 0.], f = 4.440892098500626e-16, iter = 97\n",
      "Population_size = 145, x = [0. 0.], f = 4.440892098500626e-16, iter = 97\n",
      "Population_size = 160, x = [0. 0.], f = 4.440892098500626e-16, iter = 101\n"
     ]
    }
   ],
   "source": [
    "for i in range (10, 150+15, 15):\n",
    "    result = differential_evolution(ackley, bounds, popsize=i, seed=7)\n",
    "    print(f\"Population_size = {i}, x = {result['x']}, f = {result['fun']}, iter = {result['nit']}\")"
   ]
  },
  {
   "cell_type": "markdown",
   "metadata": {
    "id": "v8b9ONbeX9x8"
   },
   "source": [
    "Population_size - множитель, задающий размер популяции. Количество кандидатов в популяции в итоге равно popsize * len(x). Значение по умолчанию - 15. Видим, что в данном случае этот параметр не сильно влияет на количество итераций. Зато время выполнения увеличивается пропорционально."
   ]
  },
  {
   "cell_type": "code",
   "execution_count": 10,
   "metadata": {
    "colab": {
     "base_uri": "https://localhost:8080/"
    },
    "id": "NlU95dQaX83K",
    "outputId": "875a9a72-adc3-4941-84f9-5239b7cb105e"
   },
   "outputs": [
    {
     "name": "stdout",
     "output_type": "stream",
     "text": [
      "tol = 0.001, x = [0. 0.], f = 4.440892098500626e-16, iter = 90\n",
      "tol = 0.006, x = [0. 0.], f = 4.440892098500626e-16, iter = 90\n",
      "tol = 0.011, x = [0. 0.], f = 4.440892098500626e-16, iter = 90\n",
      "tol = 0.016, x = [0. 0.], f = 4.440892098500626e-16, iter = 90\n",
      "tol = 0.021, x = [0. 0.], f = 4.440892098500626e-16, iter = 90\n",
      "tol = 0.026, x = [0. 0.], f = 4.440892098500626e-16, iter = 90\n",
      "tol = 0.031, x = [0. 0.], f = 4.440892098500626e-16, iter = 90\n",
      "tol = 0.036, x = [0. 0.], f = 4.440892098500626e-16, iter = 90\n",
      "tol = 0.041, x = [0. 0.], f = 4.440892098500626e-16, iter = 90\n",
      "tol = 0.046, x = [0. 0.], f = 4.440892098500626e-16, iter = 90\n",
      "tol = 0.051, x = [0. 0.], f = 4.440892098500626e-16, iter = 90\n",
      "tol = 0.056, x = [0. 0.], f = 4.440892098500626e-16, iter = 90\n",
      "tol = 0.061, x = [0. 0.], f = 4.440892098500626e-16, iter = 90\n",
      "tol = 0.066, x = [0. 0.], f = 4.440892098500626e-16, iter = 90\n",
      "tol = 0.071, x = [0. 0.], f = 4.440892098500626e-16, iter = 90\n",
      "tol = 0.076, x = [0. 0.], f = 4.440892098500626e-16, iter = 90\n",
      "tol = 0.081, x = [0. 0.], f = 4.440892098500626e-16, iter = 90\n",
      "tol = 0.086, x = [0. 0.], f = 4.440892098500626e-16, iter = 90\n",
      "tol = 0.091, x = [0. 0.], f = 4.440892098500626e-16, iter = 90\n",
      "tol = 0.096, x = [0. 0.], f = 4.440892098500626e-16, iter = 90\n"
     ]
    }
   ],
   "source": [
    "for i in range (1, 100, 5):\n",
    "    result = differential_evolution(ackley, bounds, tol=i/1000, seed=42)\n",
    "    print(f\"tol = {i/1000}, x = {result['x']}, f = {result['fun']}, iter = {result['nit']}\")"
   ]
  },
  {
   "cell_type": "markdown",
   "metadata": {
    "id": "InX2HHIsYnPz"
   },
   "source": [
    "tol - параметр, определяющий условие останова цикла (относительная толерантность). Помогает сходимости алгоритма."
   ]
  },
  {
   "cell_type": "code",
   "execution_count": 11,
   "metadata": {
    "colab": {
     "base_uri": "https://localhost:8080/"
    },
    "id": "OAg9acgXYoJz",
    "outputId": "b938bed5-aaef-497e-b0ff-f0a835ac6c20"
   },
   "outputs": [
    {
     "name": "stdout",
     "output_type": "stream",
     "text": [
      "mutation = 0.1, x = [0.96847768 0.96847738], f = 3.574451877259666, iter = 5\n",
      "mutation = 0.2, x = [0. 0.], f = 4.440892098500626e-16, iter = 28\n",
      "mutation = 0.3, x = [0. 0.], f = 4.440892098500626e-16, iter = 38\n",
      "mutation = 0.4, x = [0. 0.], f = 4.440892098500626e-16, iter = 47\n",
      "mutation = 0.5, x = [0. 0.], f = 4.440892098500626e-16, iter = 57\n",
      "mutation = 0.6, x = [0. 0.], f = 4.440892098500626e-16, iter = 76\n",
      "mutation = 0.7, x = [0. 0.], f = 4.440892098500626e-16, iter = 91\n",
      "mutation = 0.8, x = [0. 0.], f = 4.440892098500626e-16, iter = 104\n",
      "mutation = 0.9, x = [0. 0.], f = 4.440892098500626e-16, iter = 137\n"
     ]
    }
   ],
   "source": [
    "indices = []\n",
    "results = []\n",
    "\n",
    "for i in range (1, 10, 1):\n",
    "    result = differential_evolution(ackley, bounds, mutation=i/10, seed=42)\n",
    "    indices.append(i/10)\n",
    "    results.append(result['nit'])\n",
    "    print(f\"mutation = {i/10}, x = {result['x']}, f = {result['fun']}, iter = {result['nit']}\")"
   ]
  },
  {
   "cell_type": "markdown",
   "metadata": {
    "id": "IYsAPClCZMCU"
   },
   "source": [
    "mutation - параметр мутантного вектора (вес). "
   ]
  },
  {
   "cell_type": "code",
   "execution_count": 13,
   "metadata": {
    "colab": {
     "base_uri": "https://localhost:8080/",
     "height": 265
    },
    "id": "mgXn66PSZEFs",
    "outputId": "209ed9dd-8494-4c01-a708-ffa977f2d2cf"
   },
   "outputs": [
    {
     "data": {
      "image/png": "[encoded data removed]",
      "text/plain": [
       "<Figure size 432x288 with 1 Axes>"
      ]
     },
     "metadata": {
      "needs_background": "light"
     },
     "output_type": "display_data"
    }
   ],
   "source": [
    "import matplotlib.pyplot as plt\n",
    "\n",
    "plt.plot(indices, results)\n",
    "plt.show()"
   ]
  },
  {
   "cell_type": "markdown",
   "metadata": {
    "id": "ZvJNPCvEh1A6"
   },
   "source": [
    "Из картинки выше мы можем наблюдать.\n",
    "recombination - множитель вероятности попадания мутантов в новое поколение. Чем он больше, тем больше мутантов в новом поколении, но при этом возрастает риск нестабильности поколения"
   ]
  },
  {
   "cell_type": "code",
   "execution_count": 14,
   "metadata": {
    "colab": {
     "base_uri": "https://localhost:8080/"
    },
    "id": "6FW64nUxiEj6",
    "outputId": "6e3229c8-ec23-4ebe-b6e2-b00dc124750f"
   },
   "outputs": [
    {
     "name": "stdout",
     "output_type": "stream",
     "text": [
      "recombination = 0.1, x = [0. 0.], f = 4.440892098500626e-16, iter = 126\n",
      "recombination = 0.2, x = [0. 0.], f = 4.440892098500626e-16, iter = 110\n",
      "recombination = 0.3, x = [0. 0.], f = 4.440892098500626e-16, iter = 108\n",
      "recombination = 0.4, x = [0. 0.], f = 4.440892098500626e-16, iter = 108\n",
      "recombination = 0.5, x = [0. 0.], f = 4.440892098500626e-16, iter = 107\n",
      "recombination = 0.6, x = [0. 0.], f = 4.440892098500626e-16, iter = 96\n",
      "recombination = 0.7, x = [0. 0.], f = 4.440892098500626e-16, iter = 90\n",
      "recombination = 0.8, x = [0. 0.], f = 4.440892098500626e-16, iter = 84\n",
      "recombination = 0.9, x = [0. 0.], f = 4.440892098500626e-16, iter = 85\n"
     ]
    }
   ],
   "source": [
    "indices = []\n",
    "results = []\n",
    "\n",
    "for i in range (1, 10, 1):\n",
    "    result = differential_evolution(ackley, bounds, recombination=i/10, seed=42)\n",
    "    indices.append(i/10)\n",
    "    results.append(result['nit'])\n",
    "    print(f\"recombination = {i/10}, x = {result['x']}, f = {result['fun']}, iter = {result['nit']}\")"
   ]
  },
  {
   "cell_type": "code",
   "execution_count": 15,
   "metadata": {
    "colab": {
     "base_uri": "https://localhost:8080/",
     "height": 265
    },
    "id": "7YPR2WDSiPxa",
    "outputId": "e88d21c7-7895-4e25-8c3a-e10aceea0d63"
   },
   "outputs": [
    {
     "data": {
      "image/png": "[encoded data removed]",
      "text/plain": [
       "<Figure size 432x288 with 1 Axes>"
      ]
     },
     "metadata": {
      "needs_background": "light"
     },
     "output_type": "display_data"
    }
   ],
   "source": [
    "plt.plot(indices, results)\n",
    "plt.show()"
   ]
  },
  {
   "cell_type": "markdown",
   "metadata": {
    "id": "sHRkJvJ7iX-V"
   },
   "source": [
    "В данном случае наблюдается обратная зависимость между параметром recombination и количество итераций."
   ]
  },
  {
   "cell_type": "code",
   "execution_count": 16,
   "metadata": {
    "colab": {
     "base_uri": "https://localhost:8080/"
    },
    "id": "znTkQLIHiS2h",
    "outputId": "64a9945a-c1bb-4a28-d83b-33405956c8f0"
   },
   "outputs": [
    {
     "name": "stdout",
     "output_type": "stream",
     "text": [
      "     fun: 4.440892098500626e-16\n",
      " message: 'Optimization terminated successfully.'\n",
      "    nfev: 2793\n",
      "     nit: 90\n",
      " success: True\n",
      "       x: array([0., 0.])\n"
     ]
    }
   ],
   "source": [
    "print(differential_evolution(ackley, bounds, updating='immediate', seed=42))"
   ]
  },
  {
   "cell_type": "markdown",
   "metadata": {
    "id": "mWa_9Y1RiXMI"
   },
   "source": [
    "\n",
    "updating - обновление, немедленное или отложенное. При немедленном обновлении лучший кандидат обновляется постоянно в пределах одного поколения. При отложенном - один раз за поколение. По умолчанию - немедленное."
   ]
  }
 ],
 "metadata": {
  "colab": {
   "collapsed_sections": [],
   "name": "HW_6_DONE.ipynb",
   "provenance": []
  },
  "kernelspec": {
   "display_name": "Python 3",
   "language": "python",
   "name": "python3"
  },
  "language_info": {
   "codemirror_mode": {
    "name": "ipython",
    "version": 3
   },
   "file_extension": ".py",
   "mimetype": "text/x-python",
   "name": "python",
   "nbconvert_exporter": "python",
   "pygments_lexer": "ipython3",
   "version": "3.8.8"
  }
 },
 "nbformat": 4,
 "nbformat_minor": 1
}
